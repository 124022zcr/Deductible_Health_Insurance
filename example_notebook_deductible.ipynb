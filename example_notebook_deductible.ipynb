{
 "metadata": {
  "name": "",
  "signature": "sha256:2052f79b03846e4c26e0fcb5b5b64f935a40670e1c07ca3428453320feba3511"
 },
 "nbformat": 3,
 "nbformat_minor": 0,
 "worksheets": [
  {
   "cells": [
    {
     "cell_type": "markdown",
     "metadata": {},
     "source": [
      "# Changing the deductible in Dutch basic health insurance\n",
      "\n",
      "Jan Boone, Rudy Douven and Minke Remmerswaal, May 8th, 2015\n",
      "\n",
      "\n"
     ]
    },
    {
     "cell_type": "markdown",
     "metadata": {},
     "source": [
      "# Data\n",
      "Below we import the Python packages that are needed to run the model. "
     ]
    },
    {
     "cell_type": "code",
     "collapsed": false,
     "input": [
      "from __future__ import division\n",
      "from numpy import *\n",
      "from operator import *\n",
      "import matplotlib.pyplot as plt\n",
      "from scipy import optimize, arange\n",
      "from operator import add\n",
      "from openopt import GLP\n",
      "\n",
      "#import sys\n",
      "#sys.path.append(\"C:\\\\Documents and Settings\\\\mrw\\\\Local Settings\\\\Application Data\\\\Enthought\\\\Canopy32\\\\User\\\\Lib\\\\site-packages\")\n",
      "#print sys.path\n",
      "\n",
      "from mpmath import findroot\n",
      "%matplotlib inline"
     ],
     "language": "python",
     "metadata": {},
     "outputs": [],
     "prompt_number": 5
    },
    {
     "cell_type": "markdown",
     "metadata": {},
     "source": [
      "Then we import the data. Our data comes from VWS. It was modified and cleaned for the Dutch risk equalization in 2013. Originally the data comprised health care expenditures in 2013 for all insured Dutch citizens of at least 18 years old. However, _our_ data contains the aggragated health care expenditures. We can distinguish expenditures for different types of health care. For example hospital care, GP, medicine and obstetrics. Further, health care expenditures per insured person are given for 20 categories, so called _vignitiles_ based on average total health care expenditure in ascending order. Each category comprises about 600,000 individuals. \n",
      "\n",
      "\n",
      "Data comes from page 13 in [CPB report](http://www.cpb.nl/sites/default/files/publicaties/bijlagen/bijlage-4-toelichting-op-de-effecten-van-eigen-betalingen-de-zorg.pdf)"
     ]
    },
    {
     "cell_type": "code",
     "collapsed": false,
     "input": [
      "x = []\n",
      "input_file = open('Data.csv')\n",
      "for line in input_file:\n",
      "    if (line.split(';')[0] != 'klasse'): # We skip the first line\n",
      "       x.extend([eval(line.split(';')[1])])\n",
      "\n",
      "input_file.close()\n",
      "\n",
      "x.sort()                                 # This line makes sure that expenditures relevant for deductible are increasing in category number\n",
      "number_categories = size(x)              # The number of categories in the data\n",
      "total = sum(x)\n",
      "x.extend([total])\n",
      "plt.clf()\n",
      "plt.plot(range(1,number_categories+1),x[:number_categories],'ro')\n",
      "plt.ylabel('expenditure')\n",
      "plt.xlabel('categories')\n",
      "plt.axis([0.5,number_categories+0.5,-90,26000])\n",
      "plt.title('Figure 1: Average expenditure per category')\n",
      "plt.savefig('healthcare_expenditure.png')"
     ],
     "language": "python",
     "metadata": {},
     "outputs": [
      {
       "metadata": {},
       "output_type": "display_data",
       "png": "[encoded data removed]",
       "text": [
        "<matplotlib.figure.Figure at 0x110845750>"
       ]
      }
     ],
     "prompt_number": 7
    },
    {
     "cell_type": "markdown",
     "metadata": {},
     "source": [
      "The 20 vignitiles represent 20 persons in terms of health care expenditure that we can use for our model (see Figure 1). These 20 _individuals_ represent the whole health care sector (Zvw) for which the deductible applies. This means that health care provided by GP's and maternity care are excluded. The sum of their expenditures is total expenditure. Other consumer or patient characteristics are not taken into account\n",
      "\n",
      "Categories 19 and 20 have average expenditures over \u20ac7000 and \u20ac25,000 respectively (see Figure 1). There are two reasons why we leave these out of our analysis. First, we want to use a simple model to capture the behaviour of people in the categories. Just by looking at the figure, these two categories appear to be \"outliers\" compared to the others. Is it clear that these people do not behave in the same way as the other 18 categories. In terms of the model, to capture these two categories well we need to introduce additional parameters. Having two new parameters to be able to capture these two categories is the same as just leaving them out (no degress of freedom gained).\n",
      "\n",
      "Secondly, we do not consider co-payments larger than \u20ac5,000. Over the relevant range of co-payments that we consider, these two groups will not reduce their expenditure (much) as it is clear that they will spend more than the co-payment anyway. The idea of \"donut holes\" is a way to affect the expenditures of these groups. The main problem of donut holes is to target them correctly. The model we describe here is not capable of analysing this question.\n",
      "\n",
      "By leaving out these two \"top\" categories from the analysis, two things happen in the model:\n",
      "* these two top agents do not adjust their behaviour in response to changes in deductibles etc.\n",
      "* individuals in the other categories do not expect to end up in the top categories (see below).\n",
      "\n",
      "NB. Leaving out the two top categories from the analysis, does not mean we do not take their expenditures into account. We simply do not assume a behavioural effect for these two categories. \n",
      "\n",
      "For want of better terminology, we denote these \"top\" categories as \"chronic\". This is a misnomer: some agents in these categories are not chronically ill and there are chronically ill in the other categories as well. We do not analyze the (changes in) behaviour of these categories, but we add their expenditure when we look at total expenditure."
     ]
    },
    {
     "cell_type": "code",
     "collapsed": false,
     "input": [
      "summed = number_categories                    # Position summed of a vector gives the sum of the previous number_categories elements\n",
      "categories = range(0,number_categories)       # Gives a list of the form [0,1,...,20]\n"
     ],
     "language": "python",
     "metadata": {},
     "outputs": [],
     "prompt_number": 4
    },
    {
     "cell_type": "markdown",
     "metadata": {},
     "source": [
      "# Elasticities\n",
      "\n",
      "To determine the parameters of a consumer's utility function, [Aron-Dine et al. 2013](http://pubs.aeaweb.org/doi/pdfplus/10.1257/jep.27.1.197)\n",
      "\n",
      "We work with utility function $u(z)=\\alpha z^{\\gamma}$. Let $p$ denote the co-payment that the agent pays out-of-pocket of expenditure $z$. Then the agent solves\n",
      "\n",
      "$$\n",
      "\\max_z u(z) - pz\n",
      "$$\n",
      "\n"
     ]
    },
    {
     "cell_type": "markdown",
     "metadata": {},
     "source": [
      "# Model\n",
      "\n",
      "This section describes in more detail the model that we use for the calibration. Let $t(x)$ denote the amount of money that the agent pays if her health care expenditures equal $x$. Hence, with a deductible of 350, $t$ equals\n",
      "\\begin{equation*}\n",
      "t(x) = \\begin{cases}\n",
      "x & \\text{ if } x \\leq 350 \\\\\n",
      "350 & \\text{ if } x > 350\n",
      "\\end{cases}\n",
      "\\end{equation*}\n",
      "\n",
      "We assume that patient who ends up in category $i$ has costs $y_{i}$\n",
      "that are beyond her control. If you break a leg, you are taken to hospital\n",
      "with an ambulance and \"plastered up\". There is no discretion on the patient's side.\n",
      "\n",
      "The idea of $y_{i}$ is that it cannot be affected by demand side incentives.\n",
      "This does not mean that $y_i$ is necessarily efficient (there can be\n",
      "supply-induced demand). It only means that increasing co-payments, deductibles etc.\n",
      "will not affect $y_{i}$. We call this the exogenous part of health care expenditure for the patient.\n",
      "\n",
      "The discretionary or endogenous part of health care consumption: $z_{i} \\in \\lbrack 0,\\overline{z_{{i}}}]$ in category $i$. $z_{i}$ is\n",
      "health care that patients can choose to consume and will therefore be\n",
      "affected by co-payments and cost sharing schemes. The fact that $z_{i}$ is\n",
      "chosen by the patient does not mean that it is inefficient. Even if the patient has to pay $z_{i}$ herself, she\n",
      "may still decide to have $z_{i}>0$.\n",
      "\n",
      "With $\\overline{z_{{i}}}=0$, we have a model without behavioral effects.\n",
      "All expenditure is beyond the patient's control and demand side incentives\n",
      "will not affect health care expenditure in category $i$. It is easy to get a perfect calibration in this case: the actual expenditure of patient $i$ equals the exogenous expenditure $y_i$. Hence there is a perfect match between the model and our data in this case. The downside of this approach is that the dynamic part of the calibration is completely lost. As expenditure is completely exogenous for the patient, changes in deductible have no effect on agents' expenditure and we cannot capture the findings by Van Vliet at all.\n",
      "\n",
      "With $\\overline{z_{{i}}}>0$, the patient has some discretion over health care consumption and we need to\n",
      "specify her utility function. We assume that a patient in category $i$ with exogenous expenditure $y_i$ solves the following optimization problem\n",
      "\\begin{equation*}\n",
      "\\max\\limits_{z\\in \\lbrack 0,\\overline{z}]}(\\alpha z^{\\gamma}-t(y_{i}+z))\n",
      "\\end{equation*}\n",
      "where $\\alpha,\\gamma >0$ are parameters that capture the relative value of \"health\" versus money that\n",
      "can be spent on other goods (like cars, holidays etc.). These parameters are calibrated.\n",
      "\n",
      "As $z$ is always valuable at the margin (with this utility function) and\n",
      "we want to allow for the case where at the margin $z$ is free (e.g. because\n",
      "the deductible is already \"filled\"), we need the upperbound $\\overline{z}$\n",
      "to avoid $z=+\\infty $.\n",
      "\n",
      "The upperbound also makes sense intuitively: a patient cannot simply decide\n",
      "to undergo operations for one million euros. Depending on the disease there\n",
      "is a max. amount of money that the patient can make physicians to spend on\n",
      "her. Presumably, as $y_{i}$ is higher, the patient has more discretion and $\\overline{z}$ increases. This is indeed the assumption that we make. Hence, we have max. amount that varies with $i$. In particular, we assume that \n",
      "\\begin{equation*}\n",
      "\\overline{z}_i = \\bar{z}y_i^2\n",
      "\\end{equation*}\n",
      "where we calibrate $\\bar{z}$. "
     ]
    },
    {
     "cell_type": "markdown",
     "metadata": {},
     "source": [
      "A simple distribution for the exogenous expenditure $y_i$ is the exponential distribution. This distribution is governed by one parameter $\\zeta$:\n",
      "\\begin{equation*}\n",
      "f(y) = \\zeta e^{-\\zeta y}\n",
      "\\end{equation*}\n",
      "We need to identify the 1/20-th parts of this distribution. We do this as follows.\n",
      "\n",
      "First, because of the indexing of arrays in python, we use $y_0,...,y_{17}$ (recall the two top categories are chronic which we leave out of the analysis). Let $y_0$ denote the point where $F(y_0)=1/20\u22171/2$: mid-point of the histogram bar containing the lowest 5 percent of the distribution. Hence, we have $F(y_i)=i/20+1/20\u22171/2$. Or equivalently,\n",
      "\n",
      "$y_i=\u22121/\\zeta \\ln(1\u2212i/20 \u22121/2 1/20)$\n",
      "for $i=0,1,...,17$.\n",
      "\n",
      "Further, we specify the function $t$ for our calibration. In the calibration, we only use changes in the deductible."
     ]
    },
    {
     "cell_type": "code",
     "collapsed": false,
     "input": [
      "def y(zeta):\n",
      "   y = [-1/zeta*log(1-i/number_categories-1/2*1/number_categories) for i in categories_non_chronic] # distribution is defined for all categories, but we are only interested in the values of y for the non_chronic categories\n",
      "   return y\n",
      "\n",
      "def t(x,deduct):\n",
      "   if x < deduct:\n",
      "     t = x\n",
      "   else: \n",
      "     t = deduct\n",
      "   return t\n",
      "\n",
      "Dictionary_of_functions = {}        \n",
      "\n",
      "values_t_perc_copayrate = [0.25,0.50]\n",
      "values_t_perc_copaymax = [405,505] \n",
      "\n",
      "def t_perc_copayment(x,perc_copayrate, perc_copaymax):\n",
      "   if x < perc_copaymax/perc_copayrate:\n",
      "     t = perc_copayrate*x\n",
      "   else: \n",
      "     t = perc_copaymax\n",
      "   return t\n",
      "\n",
      "for perc_copaymax in values_t_perc_copaymax: \n",
      "    for perc_copayrate in values_t_perc_copayrate:\n",
      "        naam_perc_copayment = 'percentual copayment '+str(perc_copayrate)+' '+str(perc_copaymax) \n",
      "        Dictionary_of_functions[naam_perc_copayment]= lambda x, perc_copayrate = perc_copayrate, perc_copaymax = perc_copaymax: t_perc_copayment(x,perc_copayrate,perc_copaymax)\n",
      "\n",
      "\n"
     ],
     "language": "python",
     "metadata": {},
     "outputs": [],
     "prompt_number": 15
    },
    {
     "cell_type": "markdown",
     "metadata": {},
     "source": [
      "Next, we specify our optimization of health consumption. When a consumer of initial category $i$ chooses $z_i$, she does not know yet what the her exogenous consumption is going to be. Hence, she optimizes with respect to expected $t$. If she ends up with $y_j$ in excess of the deductible, endogenous consumption $z$ is free. If she ends up with $y_j$ below the deductible, consumption $z$ for her is costly at the margin. She takes the expectation over different categories $j$ with the probabilities $P_{first},P_{second},P_{third}$ as discussed above.\n",
      "\n",
      "We assume that $\\bar z_i =\\bar z y_i^2$ is determined by her initial category $i$. It turns out that $y_i$ does not vary a lot with $i$ so this assumption does not matter much.\n",
      "\n",
      "Again using the fact that $y_i$ turns out be relatively flat (compared to $z_i$), the ex post 5% spending category that an agent ends up in is determined by $z_i$. The expected expenditure of this category equals $z_i$ plus the expectation over $y_i$. That is, all agents in initial category $i$, choose the same $x_i$ but end up with different exogenous $y_j$. As the variation over $y_j$ is quite small, all these agents end up in the same ex post vignitile. The average expenditure $x_i$ in this category then equals $z_i$ plus expected $y_j$."
     ]
    },
    {
     "cell_type": "code",
     "collapsed": false,
     "input": [
      "\n",
      "def health_consumption(i,z_bar,alpha,gamma=0.8):\n",
      "    def expected_t(i,x):\n",
      "        som = 0\n",
      "        for j in categories_non_chronic:\n",
      "            som += P(i, P_first, P_second)[j]*t(y[j]+x,deduct)\n",
      "        return som \n",
      "    cons = optimize.brute(lambda z: -(alpha*z**gamma-expected_t(i,z)), ((0,z_bar*y[i]**2.0),), finish = None) \n",
      "                                                  # This is the routine that finds the z which maximizes patient's expected utility\n",
      "    expected_y = inner(array(y),array(P(i,P_first,P_second)))\n",
      "    return cons+expected_y \n",
      "\n",
      "def vector_expenditures(z_bar,P_first,P_second,alpha,gamma,zeta,deduct): \n",
      "                                                  # Creates the vector of expenditures predicted by the model\n",
      "    vy = y(zeta)                                  # vy is vector of y_i for the non_chronic categories\n",
      "    y_plus_z = [health_consumption(i,vy,z_bar,alpha,gamma,P_first,P_second,deduct) for i in categories_non_chronic]\n",
      "    y_plus_z.extend(x_chronic) # y_plus_z includes chronic categories\n",
      "    return y_plus_z"
     ],
     "language": "python",
     "metadata": {},
     "outputs": [],
     "prompt_number": 7
    },
    {
     "cell_type": "markdown",
     "metadata": {},
     "source": [
      "# Calibration\n",
      "\n",
      "\n",
      "Here we specify the function that we would like to minimize to get the best fit. This objective function consists of two parts. First, we fit for each category the predicted spending of this category with the VWS data. Second, we our data on elasticities by Van Vliet (2004). We use the three datapoints from Table 1 above (alternative deductible 0, 1, 2 and 3) This we fit as well."
     ]
    },
    {
     "cell_type": "code",
     "collapsed": false,
     "input": [
      "weight_VWS_vs_VanVliet = 1.0\n",
      "base_deductible = 350.0\n",
      "def criterion(par):         # Vector par = z_bar,P_first,P_second, alpha, gamma, zeta, x_350\n",
      "    predicted_cons = vector_expenditures(par[0],par[1],par[2],par[3],par[4],par[5],base_deductible)\n",
      "    difference = map(sub, predicted_cons[:number_categories_non_chronic],x[:number_categories_non_chronic]) ### predicted cons includes chronic categories???\n",
      "    sum_difference_VanVliet = 0.0\n",
      "    for deductible in sorted(costs_to_be_calibrated):\n",
      "        sum_difference_VanVliet += (sum(vector_expenditures(par[0],par[1],par[2],par[3],par[4],par[5],deductible))-par[6]*costs_to_be_calibrated[deductible])**2\n",
      "    criterion = weight_VWS_vs_VanVliet*sum(array(difference)**2)+sum_difference_VanVliet\n",
      "    return criterion"
     ],
     "language": "python",
     "metadata": {},
     "outputs": [],
     "prompt_number": 8
    },
    {
     "cell_type": "markdown",
     "metadata": {},
     "source": [
      "These are the results of our calibration. We assign them to our parameters. "
     ]
    },
    {
     "cell_type": "code",
     "collapsed": false,
     "input": [
      "f = lambda x: criterion(x)\n",
      "p = GLP(f, lb = [0.0, 0.5, 0.0, 0.0, 0.0, 0.0,0.8],  ub = [0.2, 1.0, 0.3, 1.0, 0.9, 0.1,0.9],  maxIter = 1e3,  maxFunEvals = 1e5) #,  maxTime = 20,  maxCPUTime = 20)\n",
      "r = p.solve('de', plot=0)\n",
      "x_opt,  f_opt = r.xf,  r.ff\n",
      "print x_opt, f_opt"
     ],
     "language": "python",
     "metadata": {},
     "outputs": [
      {
       "output_type": "stream",
       "stream": "stdout",
       "text": [
        "-----------------------------------------------------\n",
        "solver: de   problem: unnamed\n",
        " iter   "
       ]
      },
      {
       "output_type": "stream",
       "stream": "stdout",
       "text": [
        " objFunVal   \n",
        "    0  9.400e+08 \n",
        "   10  7.388e+07 "
       ]
      },
      {
       "output_type": "stream",
       "stream": "stdout",
       "text": [
        "\n",
        "   20  4.493e+07 "
       ]
      },
      {
       "output_type": "stream",
       "stream": "stdout",
       "text": [
        "\n",
        "   30  3.815e+07 "
       ]
      },
      {
       "output_type": "stream",
       "stream": "stdout",
       "text": [
        "\n",
        "   40  3.746e+07 "
       ]
      },
      {
       "output_type": "stream",
       "stream": "stdout",
       "text": [
        "\n",
        "   50  3.665e+07 "
       ]
      },
      {
       "output_type": "stream",
       "stream": "stdout",
       "text": [
        "\n",
        "   60  3.665e+07 "
       ]
      },
      {
       "output_type": "stream",
       "stream": "stdout",
       "text": [
        "\n",
        "   65  3.665e+07 "
       ]
      },
      {
       "output_type": "stream",
       "stream": "stdout",
       "text": [
        "\n",
        "istop: 11(Non-Success Number > maxNonSuccess = 15)\n",
        "Solver:   Time Elapsed = 5126.17 \tCPU Time Elapsed = 5089.423994\n",
        "objFunValue: 36648122 (feasible, MaxResidual = 0)\n",
        "[ 0.19005851  0.94043497  0.17187947  0.94870232  0.98352191  0.01679579\n",
        "  0.89019749] 36648122.4215\n"
       ]
      }
     ],
     "prompt_number": 9
    },
    {
     "cell_type": "code",
     "collapsed": false,
     "input": [
      "# [ 0.16289025  0.83281495  0.24888343  0.89888634  0.99305105  0.01785629 0.885721  ] 33472263.3922\n",
      "# [ 0.19005851  0.94043497  0.17187947  0.94870232  0.98352191  0.01679579 0.89019749] 36648122.4215\n",
      "x_opt = [ 0.19005851,  0.94043497,  0.17187947,  0.94870232,  0.98352191,  0.01679579, 0.89019749]\n",
      "z_bar,P_first,P_second, alpha, gamma, zeta, x_350 = x_opt[0], x_opt[1], x_opt[2], x_opt[3], x_opt[4], x_opt[5], x_opt[6]\n"
     ],
     "language": "python",
     "metadata": {},
     "outputs": [],
     "prompt_number": 6
    },
    {
     "cell_type": "markdown",
     "metadata": {},
     "source": [
      "new variable here is x_350 = 0.89. This variable says: had 350 been in Van Vliet's table, the entry would have been 0.89 (which does not seem unreasonable).\n",
      "\n",
      "The P_third variable = 0 in this calibration. We find for the distribution of someone in i = 5:"
     ]
    },
    {
     "cell_type": "code",
     "collapsed": false,
     "input": [
      "P(5,P_first,P_second)"
     ],
     "language": "python",
     "metadata": {},
     "outputs": [
      {
       "metadata": {},
       "output_type": "pyout",
       "prompt_number": 7,
       "text": [
        "[0.0,\n",
        " 0.0,\n",
        " 0.0,\n",
        " 0.0,\n",
        " 0.13384230267841712,\n",
        " 0.7323153946431658,\n",
        " 0.13384230267841712,\n",
        " 0.0,\n",
        " 0.0,\n",
        " 0.0,\n",
        " 0.0,\n",
        " 0.0,\n",
        " 0.0,\n",
        " 0.0,\n",
        " 0.0,\n",
        " 0.0,\n",
        " 0.0,\n",
        " 0.0,\n",
        " 0.0]"
       ]
      }
     ],
     "prompt_number": 7
    },
    {
     "cell_type": "code",
     "collapsed": false,
     "input": [
      "predicted_x0 = sum(vector_expenditures(z_bar,P_first,P_second,alpha,gamma,zeta,0)) ### includes chronic\n"
     ],
     "language": "python",
     "metadata": {},
     "outputs": [],
     "prompt_number": 12
    },
    {
     "cell_type": "markdown",
     "metadata": {},
     "source": [
      "# Simulations\n",
      "\n",
      "We will do one simulation here: we vary the deductible from 0 to 1000 euro and plot total expenditure.\n"
     ]
    },
    {
     "cell_type": "markdown",
     "metadata": {},
     "source": [
      "### Varying the deductible"
     ]
    },
    {
     "cell_type": "code",
     "collapsed": false,
     "input": [
      "y = [-1/zeta*log(1-i/number_categories-1/2*1/number_categories) for i in categories_non_chronic] \n",
      "\n",
      "range_of_deductibles = range(0,3600,200)\n",
      "\n",
      "def t_base(x,deductible):\n",
      "   if x < deductible:\n",
      "     t = x\n",
      "   else: \n",
      "     t = deductible\n",
      "   return t\n",
      "\n",
      "Dictionary_of_functions = {}\n",
      "\n",
      "for deductible in range_of_deductibles:\n",
      "    Dictionary_of_functions[deductible]=t_base\n",
      "        \n"
     ],
     "language": "python",
     "metadata": {},
     "outputs": [],
     "prompt_number": 12
    },
    {
     "cell_type": "code",
     "collapsed": false,
     "input": [
      "def health_consumption(i,deductible_function):\n",
      "    def expected_t(i,x):\n",
      "        som = 0\n",
      "        for j in categories_non_chronic:\n",
      "            som += P(i, P_first, P_second)[j]*deductible_function(y[j]+x)\n",
      "        return som \n",
      "    cons = optimize.brute(lambda z: -(alpha*z**gamma-expected_t(i,z)), ((0,z_bar*y[i]**2.0),), finish = None)\n",
      "    expected_y = inner(array(y),array(P(i,P_first,P_second)))\n",
      "    expected_out_of_pocket = sum([P(i, P_first, P_second)[j]*deductible_function(y[j]+cons) for j in categories_non_chronic])\n",
      "    return cons+expected_y,expected_out_of_pocket # only for non-chronic\n",
      "\n",
      "def vector_expenditures(deductible_function):\n",
      "    health_expenditures = [health_consumption(i,deductible_function)[0] for i in categories_non_chronic]\n",
      "    health_expenditures.extend(x_chronic)\n",
      "    total_e = sum(health_expenditures) \n",
      "    health_expenditures.extend([total_e]) # expenditures for each non-chronic category and total which includes chronic as well\n",
      "    out_of_pocket_expenditures = [health_consumption(i,deductible_function)[1] for i in categories_non_chronic] # non-chronic\n",
      "    out_of_pocket_chronic = [deductible_function(x[i]) for i in categories_chronic]\n",
      "    out_of_pocket_expenditures.extend(out_of_pocket_chronic)\n",
      "    total_o = sum(out_of_pocket_expenditures) #  out_of_pocket for each non-chronic category and total which includes chronic as well\n",
      "    out_of_pocket_expenditures.extend([total_o])\n",
      "    return health_expenditures, out_of_pocket_expenditures"
     ],
     "language": "python",
     "metadata": {},
     "outputs": [],
     "prompt_number": 9
    },
    {
     "cell_type": "code",
     "collapsed": false,
     "input": [
      "aggregate_expenditure = []\n",
      "aggregate_out_of_pocket = []\n",
      "for deductible in sorted(Dictionary_of_functions.keys()):\n",
      "    deductible_function = lambda x: Dictionary_of_functions[deductible](x,deductible)\n",
      "    aggregate_expenditure.extend([vector_expenditures(deductible_function)[0][summed]])\n",
      "    aggregate_out_of_pocket.extend([vector_expenditures(deductible_function)[1][summed]])\n",
      "\n",
      "government_expenditure = map(sub, aggregate_expenditure,aggregate_out_of_pocket)\n",
      "\n",
      "normalized_expenditure = array(aggregate_expenditure)/(predicted_x0)\n",
      "normalized_government_expenditure = array(government_expenditure)/(predicted_x0)\n",
      "\n",
      "plt.clf()\n",
      "\n",
      "plt.plot(range_of_deductibles, normalized_expenditure,'-', color = 'r', linewidth = 2)\n",
      "#plt.plot(range_of_deductibles,normalized_government_expenditure,'-', color = 'b', linewidth = 2)\n",
      "\n",
      "for deductible in sorted(tabel_Van_Vliet.keys()):\n",
      "     plt.plot([deductible], [tabel_Van_Vliet[deductible]], marker='o', linestyle='', color='r')\n",
      "\n",
      "plt.title(\"Predicted vs Van Vliet\",fontsize = 15)\n",
      "plt.xlabel(\"eigen risico\",fontsize = 15)\n",
      "plt.ylabel(\"zorguitgaven (genormaliseerd)\",fontsize = 15,rotation = 90)\n",
      "plt.ylim(0,1.1)\n",
      "plt.savefig('simulationVVliet_unweighted.png')\n",
      " "
     ],
     "language": "python",
     "metadata": {},
     "outputs": [
      {
       "metadata": {},
       "output_type": "display_data",
       "png": "[encoded data removed]",
       "text": [
        "<matplotlib.figure.Figure at 0x10dc5d950>"
       ]
      }
     ],
     "prompt_number": 15
    },
    {
     "cell_type": "markdown",
     "metadata": {},
     "source": [
      "Here we normalize expenditure on the expenditure at deductible = 0. The red line gives total health care expenditures. The red dots correspond to the datapoints from Van Vliet (2004): see Table 1 above. With equal weight to Van Vliet and VWS data, we under-estimate the effects of Van Vliet."
     ]
    },
    {
     "cell_type": "markdown",
     "metadata": {},
     "source": [
      "# Simulation for 'Zorgkeuzes in Kaart' (the year 2017)\n",
      "\n",
      "In 2017, we have the following baseline:\n",
      "* deductible = \u20ac405\n",
      "* compared to 2013, total expenditure (for which a deductible applies) grows from \u20ac31.558 (in millions of euros) to \u20ac33.618; i.e. with 6.5%\n",
      "* we apply the 6.5% growth directly to the chronic categories (as we take these as exogenous)\n",
      "* we change the distribution of y such that for the non-chronic categories we also get a growth rate of 6.5%\n",
      "* that is, we re-callibrate $\\zeta$ such that we match this increase in total costs with deductible of \u20ac405\n",
      "\n",
      "We compare this baseline outcome in 2017 with alternative forms of copayments\n",
      "\n"
     ]
    },
    {
     "cell_type": "code",
     "collapsed": false,
     "input": [
      "baseline_deductible_2017 = 405\n",
      "expenditure_growth = 1.065\n",
      "total_expenditure_2017 = x[summed]*expenditure_growth\n",
      "\n",
      "def y_2017(zeta):\n",
      "   y = [-1/zeta*log(1-i/number_categories-1/2*1/number_categories) for i in categories_non_chronic] # distribution is defined for all categories, but we are only interested in the values of y for the non_chronic categories\n",
      "   return y\n",
      "\n",
      "x_chronic_2017 = [x[i]*expenditure_growth for i in categories_chronic]\n",
      "\n",
      "def health_consumption_2017(i,vy,deduct,z_bar=z_bar,alpha=alpha,gamma=gamma,P_first=P_first,P_second=P_second):\n",
      "    def expected_t(i,x):\n",
      "        som = 0\n",
      "        for j in categories_non_chronic:\n",
      "            som += P(i, P_first, P_second)[j]*t(vy[j]+x,deduct)\n",
      "        return som \n",
      "    cons = optimize.brute(lambda z: -(alpha*z**gamma-expected_t(i,z)), ((0,z_bar*vy[i]**2.0),), finish = None) \n",
      "                                                  # This is the routine that finds the z which maximizes patient's expected utility\n",
      "    expected_y = inner(array(vy),array(P(i,P_first,P_second)))\n",
      "    return cons+expected_y \n",
      "\n",
      "def sum_expenditures_baseline_2017(zeta):\n",
      "    deduct = baseline_deductible_2017\n",
      "    vy = y_2017(zeta)                                  # vy is vector of y_i for the non_chronic categories\n",
      "    y_plus_z = [health_consumption_2017(i,vy,deduct) for i in categories_non_chronic]\n",
      "    y_plus_z.extend(x_chronic_2017)\n",
      "    sum_expenditures = sum(y_plus_z)\n",
      "    return sum_expenditures\n"
     ],
     "language": "python",
     "metadata": {},
     "outputs": [],
     "prompt_number": 16
    },
    {
     "cell_type": "code",
     "collapsed": false,
     "input": [],
     "language": "python",
     "metadata": {},
     "outputs": []
    },
    {
     "cell_type": "code",
     "collapsed": false,
     "input": [
      "def difference(zeta):\n",
      "    return sum_expenditures_baseline_2017(zeta)-total_expenditure_2017\n",
      "\n",
      "#zeta_2017 = findroot(difference, (0.01, 0.02), tol =.1**10 ,solver='anderson')\n",
      "#print zeta_2017\n",
      "zeta_2017 = 0.0135745094109181\n",
      "print difference(zeta_2017) # if this equals 0.0 (see output below cell) then zeta_2017 matches the increase in total costs of 6.5%\n",
      "y2017 = y_2017(zeta_2017)\n",
      "bruto_kosten_base_2017 = sum_expenditures_baseline_2017(zeta_2017)\n",
      "\n",
      "def vector_expenditures_baseline_2017(deduct):\n",
      "    vy = y2017                                  # vy is vector of y_i for the non_chronic categories\n",
      "    y_plus_z = [health_consumption(i,vy,deduct) for i in categories_non_chronic]\n",
      "    y_plus_z.extend(x_chronic_2017)\n",
      "    sum_expenditures = sum(y_plus_z)\n",
      "    y_plus_z.extend(sum_expenditures)\n",
      "    return y_plus_z\n"
     ],
     "language": "python",
     "metadata": {},
     "outputs": [
      {
       "output_type": "stream",
       "stream": "stdout",
       "text": [
        "-1.23691279441e-10\n"
       ]
      }
     ],
     "prompt_number": 17
    },
    {
     "cell_type": "code",
     "collapsed": false,
     "input": [
      "[-1/zeta_2017*log(1-i/number_categories-1/2*1/number_categories) for i in categories_non_chronic]"
     ],
     "language": "python",
     "metadata": {},
     "outputs": [
      {
       "metadata": {},
       "output_type": "pyout",
       "prompt_number": 23,
       "text": [
        "[1.8650992988318646,\n",
        " 5.7432308682188369,\n",
        " 9.8369221739330133,\n",
        " 14.171553963690922,\n",
        " 18.777271569297223,\n",
        " 23.690257555003033,\n",
        " 28.954459878563245,\n",
        " 34.623986401137074,\n",
        " 40.766500020965317,\n",
        " 47.46816233905669,\n",
        " 54.841059253952537,\n",
        " 63.0347723188803,\n",
        " 72.25522656626076,\n",
        " 82.797106151653082,\n",
        " 95.103560816512115,\n",
        " 109.88646673138444,\n",
        " 128.40016919187792,\n",
        " 153.18723341908196,\n",
        " 190.81847358420566]"
       ]
      }
     ],
     "prompt_number": 23
    },
    {
     "cell_type": "code",
     "collapsed": false,
     "input": [
      "def health_consumption_2017(i,deductible_function):\n",
      "    def expected_t(i,x):\n",
      "        som = 0\n",
      "        for j in categories_non_chronic:\n",
      "            som += P(i, P_first, P_second)[j]*deductible_function(y2017[j]+x)\n",
      "        return som \n",
      "    cons = optimize.brute(lambda z: -(alpha*z**gamma-expected_t(i,z)), ((0,z_bar*y2017[i]**2.0),), finish = None)\n",
      "    expected_y = inner(array(y2017),array(P(i,P_first,P_second)))\n",
      "    expected_out_of_pocket = sum([P(i, P_first, P_second)[j]*deductible_function(y2017[j]+cons) for j in categories_non_chronic])\n",
      "    return cons+expected_y,expected_out_of_pocket\n",
      "\n",
      "def vector_expenditures_2017(deductible_function):\n",
      "    health_expenditures = [health_consumption_2017(i,deductible_function)[0] for i in categories_non_chronic]\n",
      "    health_expenditures.extend(x_chronic_2017)\n",
      "    total_e = sum(health_expenditures)\n",
      "    health_expenditures.extend([total_e])\n",
      "    out_of_pocket_expenditures = [health_consumption_2017(i,deductible_function)[1] for i in categories_non_chronic]\n",
      "    out_of_pocket_chronic = [deductible_function(x_chronic_2017[i]) for i in range(0,number_chronic_categories)]\n",
      "    out_of_pocket_expenditures.extend(out_of_pocket_chronic)\n",
      "    total_o = sum(out_of_pocket_expenditures)\n",
      "    out_of_pocket_expenditures.extend([total_o])\n",
      "    return health_expenditures, out_of_pocket_expenditures"
     ],
     "language": "python",
     "metadata": {},
     "outputs": [],
     "prompt_number": 18
    },
    {
     "cell_type": "markdown",
     "metadata": {},
     "source": [
      "## Varying the deductible: an increase of \u20ac100\n",
      "\n",
      "The first version is an increase in the deductible from \u20ac405 to \u20ac505"
     ]
    },
    {
     "cell_type": "code",
     "collapsed": false,
     "input": [
      "def t_base_2017(x):\n",
      "   if x < baseline_deductible_2017:\n",
      "     t = x\n",
      "   else: \n",
      "     t = baseline_deductible_2017\n",
      "   return t\n",
      "\n",
      "def t_505(x):\n",
      "   if x < 505:\n",
      "     t = x\n",
      "   else: \n",
      "     t = 505\n",
      "   return t"
     ],
     "language": "python",
     "metadata": {},
     "outputs": [],
     "prompt_number": 19
    },
    {
     "cell_type": "code",
     "collapsed": false,
     "input": [
      "health_consumption_2017(7,t_505)"
     ],
     "language": "python",
     "metadata": {},
     "outputs": [
      {
       "metadata": {},
       "output_type": "pyout",
       "prompt_number": 27,
       "text": [
        "(34.687292083370785, 34.687292083370785)"
       ]
      }
     ],
     "prompt_number": 27
    },
    {
     "cell_type": "code",
     "collapsed": false,
     "input": [
      "bruto_kosten_base_2017 = (vector_expenditures_2017(t_base_2017)[0][20])*666000\n",
      "bruto_kosten_505_2017 = (vector_expenditures_2017(t_505)[0][20])*666000\n",
      "totaal_betaald_ER_base_2017 = (vector_expenditures_2017(t_base_2017)[1][20])*666000\n",
      "totaal_betaald_ER_505_2017 = (vector_expenditures_2017(t_505)[1][20])*666000\n",
      "netto_kosten_base_2017 = bruto_kosten_base_2017 - totaal_betaald_ER_base_2017\n",
      "netto_kosten_505_2017 = bruto_kosten_505_2017 - totaal_betaald_ER_505_2017\n",
      "remgeld_effect_2017 = bruto_kosten_base_2017 - bruto_kosten_505_2017 # als dit positief is, nemen de kosten af\n",
      "\n"
     ],
     "language": "python",
     "metadata": {},
     "outputs": [],
     "prompt_number": 20
    },
    {
     "cell_type": "code",
     "collapsed": false,
     "input": [
      "print \"%0.2f\" % bruto_kosten_base_2017\n",
      "print \"%0.2f\" % bruto_kosten_505_2017\n",
      "print \"%0.2f\" % totaal_betaald_ER_base_2017\n",
      "print \"%0.2f\" % totaal_betaald_ER_505_2017\n",
      "print \"%0.2f\" % netto_kosten_base_2017\n",
      "print \"%0.2f\" % netto_kosten_505_2017\n",
      "print \"%0.2f\" % remgeld_effect_2017\n"
     ],
     "language": "python",
     "metadata": {},
     "outputs": [
      {
       "output_type": "stream",
       "stream": "stdout",
       "text": [
        "33610401044.91\n",
        "33325189968.76\n",
        "3087195055.62\n",
        "3515138684.90\n",
        "30523205989.29\n",
        "29810051283.85\n",
        "285211076.15\n"
       ]
      }
     ],
     "prompt_number": 21
    },
    {
     "cell_type": "code",
     "collapsed": false,
     "input": [
      "33325189968.756176\n",
      "-33325139502.688541"
     ],
     "language": "python",
     "metadata": {},
     "outputs": []
    },
    {
     "cell_type": "markdown",
     "metadata": {},
     "source": [
      "## Varying the deductible: a decrease of \u20ac100\n",
      "\n",
      "The first version is an increase in the deductible from \u20ac405 to \u20ac305"
     ]
    },
    {
     "cell_type": "code",
     "collapsed": false,
     "input": [
      "def t_base_2017(x):\n",
      "   if x < baseline_deductible_2017:\n",
      "     t = x\n",
      "   else: \n",
      "     t = baseline_deductible_2017\n",
      "   return t\n",
      "\n",
      "def t_305(x):\n",
      "   if x < 305:\n",
      "     t = x\n",
      "   else: \n",
      "     t = 305\n",
      "   return t"
     ],
     "language": "python",
     "metadata": {},
     "outputs": [],
     "prompt_number": 24
    },
    {
     "cell_type": "code",
     "collapsed": false,
     "input": [
      "bruto_kosten_base_2017 = (vector_expenditures_2017(t_base_2017)[0][20])*666000\n",
      "bruto_kosten_305_2017 = (vector_expenditures_2017(t_305)[0][20])*666000\n",
      "totaal_betaald_ER_base_2017 = (vector_expenditures_2017(t_base_2017)[1][20])*666000\n",
      "totaal_betaald_ER_305_2017 = (vector_expenditures_2017(t_305)[1][20])*666000\n",
      "netto_kosten_base_2017 = bruto_kosten_base_2017 - totaal_betaald_ER_base_2017\n",
      "netto_kosten_305_2017 = bruto_kosten_305_2017 - totaal_betaald_ER_305_2017\n",
      "remgeld_effect_2017 = bruto_kosten_base_2017 - bruto_kosten_305_2017 # als dit positief is, nemen de kosten af \n"
     ],
     "language": "python",
     "metadata": {},
     "outputs": [],
     "prompt_number": 25
    },
    {
     "cell_type": "code",
     "collapsed": false,
     "input": [
      "print \"%0.2f\" % bruto_kosten_base_2017\n",
      "print \"%0.2f\" % bruto_kosten_305_2017\n",
      "print \"%0.2f\" % totaal_betaald_ER_base_2017\n",
      "print \"%0.2f\" % totaal_betaald_ER_305_2017\n",
      "print \"%0.2f\" % netto_kosten_base_2017\n",
      "print \"%0.2f\" % netto_kosten_305_2017\n",
      "print \"%0.2f\" % remgeld_effect_2017"
     ],
     "language": "python",
     "metadata": {},
     "outputs": [
      {
       "output_type": "stream",
       "stream": "stdout",
       "text": [
        "33610401044.91\n",
        "33820763583.64\n",
        "3087195055.62\n",
        "2530524724.67\n",
        "30523205989.29\n",
        "31290238858.97\n",
        "-210362538.73\n"
       ]
      }
     ],
     "prompt_number": 26
    },
    {
     "cell_type": "markdown",
     "metadata": {},
     "source": [
      "## Varying the deductible: a decrease to \u20ac220\n",
      "\n",
      "The first version is an increase in the deductible from \u20ac405 to \u20ac220"
     ]
    },
    {
     "cell_type": "code",
     "collapsed": false,
     "input": [
      "def t_base_2017(x):\n",
      "   if x < baseline_deductible_2017:\n",
      "     t = x\n",
      "   else: \n",
      "     t = baseline_deductible_2017\n",
      "   return t\n",
      "\n",
      "def t_220(x):\n",
      "   if x < 220:\n",
      "     t = x\n",
      "   else: \n",
      "     t = 220\n",
      "   return t"
     ],
     "language": "python",
     "metadata": {},
     "outputs": [],
     "prompt_number": 27
    },
    {
     "cell_type": "code",
     "collapsed": false,
     "input": [
      "bruto_kosten_base_2017 = (vector_expenditures_2017(t_base_2017)[0][20])*666000\n",
      "bruto_kosten_220_2017 = (vector_expenditures_2017(t_220)[0][20])*666000\n",
      "totaal_betaald_ER_base_2017 = (vector_expenditures_2017(t_base_2017)[1][20])*666000\n",
      "totaal_betaald_ER_220_2017 = (vector_expenditures_2017(t_220)[1][20])*666000\n",
      "netto_kosten_base_2017 = bruto_kosten_base_2017 - totaal_betaald_ER_base_2017\n",
      "netto_kosten_220_2017 = bruto_kosten_220_2017 - totaal_betaald_ER_220_2017\n",
      "remgeld_effect_2017 = bruto_kosten_base_2017 - bruto_kosten_220_2017 # als dit positief is, nemen de kosten af \n"
     ],
     "language": "python",
     "metadata": {},
     "outputs": [],
     "prompt_number": 28
    },
    {
     "cell_type": "code",
     "collapsed": false,
     "input": [
      "print \"%0.2f\" % bruto_kosten_base_2017\n",
      "print \"%0.2f\" % bruto_kosten_220_2017\n",
      "print \"%0.2f\" % totaal_betaald_ER_base_2017\n",
      "print \"%0.2f\" % totaal_betaald_ER_220_2017\n",
      "print \"%0.2f\" % netto_kosten_base_2017\n",
      "print \"%0.2f\" % netto_kosten_220_2017\n",
      "print \"%0.2f\" % remgeld_effect_2017"
     ],
     "language": "python",
     "metadata": {},
     "outputs": [
      {
       "output_type": "stream",
       "stream": "stdout",
       "text": [
        "33610401044.91\n",
        "33972509036.62\n",
        "3087195055.62\n",
        "1974622988.14\n",
        "30523205989.29\n",
        "31997886048.49\n",
        "-362107991.71\n"
       ]
      }
     ],
     "prompt_number": 29
    },
    {
     "cell_type": "markdown",
     "metadata": {},
     "source": [
      "## Varying the deductible: a decrease to \u20ac0\n",
      "\n",
      "The first version is an increase in the deductible from \u20ac405 to \u20ac0"
     ]
    },
    {
     "cell_type": "code",
     "collapsed": false,
     "input": [
      "def t_base_2017(x):\n",
      "   if x < baseline_deductible_2017:\n",
      "     t = x\n",
      "   else: \n",
      "     t = baseline_deductible_2017\n",
      "   return t\n",
      "\n",
      "def t_0(x):\n",
      "   if x < 0:\n",
      "     t = x\n",
      "   else: \n",
      "     t = 0\n",
      "   return t"
     ],
     "language": "python",
     "metadata": {},
     "outputs": [],
     "prompt_number": 30
    },
    {
     "cell_type": "code",
     "collapsed": false,
     "input": [
      "bruto_kosten_base_2017 = (vector_expenditures_2017(t_base_2017)[0][20])*666000\n",
      "bruto_kosten_0_2017 = (vector_expenditures_2017(t_0)[0][20])*666000\n",
      "totaal_betaald_ER_base_2017 = (vector_expenditures_2017(t_base_2017)[1][20])*666000\n",
      "totaal_betaald_ER_0_2017 = (vector_expenditures_2017(t_0)[1][20])*666000\n",
      "netto_kosten_base_2017 = bruto_kosten_base_2017 - totaal_betaald_ER_base_2017\n",
      "netto_kosten_0_2017 = bruto_kosten_0_2017 - totaal_betaald_ER_0_2017\n",
      "remgeld_effect_2017 = bruto_kosten_base_2017 - bruto_kosten_0_2017 # als dit positief is, nemen de kosten af\n",
      "\n"
     ],
     "language": "python",
     "metadata": {},
     "outputs": [],
     "prompt_number": 31
    },
    {
     "cell_type": "code",
     "collapsed": false,
     "input": [
      "print \"%0.2f\" % bruto_kosten_base_2017\n",
      "print \"%0.2f\" % bruto_kosten_0_2017\n",
      "print \"%0.2f\" % totaal_betaald_ER_base_2017\n",
      "print \"%0.2f\" % totaal_betaald_ER_0_2017\n",
      "print \"%0.2f\" % netto_kosten_base_2017\n",
      "print \"%0.2f\" % netto_kosten_0_2017\n",
      "print \"%0.2f\" % remgeld_effect_2017"
     ],
     "language": "python",
     "metadata": {},
     "outputs": [
      {
       "output_type": "stream",
       "stream": "stdout",
       "text": [
        "33610401044.91\n",
        "34236559493.28\n",
        "3087195055.62\n",
        "0.00\n",
        "30523205989.29\n",
        "34236559493.28\n",
        "-626158448.37\n"
       ]
      }
     ],
     "prompt_number": 32
    },
    {
     "cell_type": "code",
     "collapsed": false,
     "input": [],
     "language": "python",
     "metadata": {},
     "outputs": [],
     "prompt_number": 32
    },
    {
     "cell_type": "code",
     "collapsed": false,
     "input": [],
     "language": "python",
     "metadata": {},
     "outputs": []
    }
   ],
   "metadata": {}
  }
 ]
}