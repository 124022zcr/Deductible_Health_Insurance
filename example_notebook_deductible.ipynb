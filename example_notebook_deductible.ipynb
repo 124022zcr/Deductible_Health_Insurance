{
 "metadata": {
  "name": "",
  "signature": "sha256:6571f3476916ca1bc4bc24929e59f2d5010108dedd3175206c5f4751f11ee902"
 },
 "nbformat": 3,
 "nbformat_minor": 0,
 "worksheets": [
  {
   "cells": [
    {
     "cell_type": "markdown",
     "metadata": {},
     "source": [
      "# Changing the deductible in Dutch basic health insurance\n",
      "\n",
      "Jan Boone, Rudy Douven and Minke Remmerswaal, May 8th, 2015\n",
      "\n",
      "This notebook shows how a simple python model can be calibrated to analyze the effects of changing the deductible in a health insurance market. We calibrate the model on aggregate data for the Dutch basic health insurance market and the elasticity as it is found in the [RAND Health Insurance Experiment](http://www.rand.org/health/projects/hie.html).\n",
      "\n",
      "This page is for educational purposes only and should not be used for policy analysis.\n",
      "\n",
      "The python code and data used here can be found at [github](https://github.com/janboone/Deductible_Health_Insurance).\n",
      "\n"
     ]
    },
    {
     "cell_type": "markdown",
     "metadata": {},
     "source": [
      "# Importing libraries and data\n",
      "\n",
      "We use the following python packages to run the model. "
     ]
    },
    {
     "cell_type": "code",
     "collapsed": false,
     "input": [
      "from __future__ import division\n",
      "from numpy import *\n",
      "from operator import *\n",
      "import matplotlib.pyplot as plt\n",
      "from scipy import optimize, arange\n",
      "from operator import add\n",
      "from openopt import GLP\n",
      "from mpmath import findroot\n",
      "%matplotlib inline"
     ],
     "language": "python",
     "metadata": {},
     "outputs": [],
     "prompt_number": 1
    },
    {
     "cell_type": "markdown",
     "metadata": {},
     "source": [
      "The data that we use, come from page 13 in [CPB report](http://www.cpb.nl/sites/default/files/publicaties/bijlagen/bijlage-4-toelichting-op-de-effecten-van-eigen-betalingen-de-zorg.pdf).\n",
      "\n",
      "The data comprise health care expenditures for mandatory basic insurance in 2013 for all insured Dutch citizens of at least 18 years old. These are expenditures that fall under the deductible. For instance, expenditures on primary physicians and maternity care are excluded, as these are excluded from the deductible. Also, there is no deductible for people below 18 years.\n",
      "\n",
      "Health care expenditures per insured person are given for 20 categories, so called _vignitiles_ based on average total health care expenditure in ascending order. Each category comprises about 600,000 individuals. \n",
      "\n",
      "\n"
     ]
    },
    {
     "cell_type": "code",
     "collapsed": false,
     "input": [
      "x = []\n",
      "input_file = open('Data.csv')\n",
      "for line in input_file:\n",
      "    if (line.split(';')[0] != 'klasse'): # We skip the first line\n",
      "       x.extend([eval(line.split(';')[1])])\n",
      "\n",
      "input_file.close()\n",
      "\n",
      "x.sort()                                 # This line makes sure that expenditures relevant for deductible are increasing in category number\n",
      "number_categories = size(x)              # The number of categories in the data\n",
      "total = sum(x)\n",
      "x.extend([total])\n",
      "\n",
      "summed = number_categories                    # Position summed of a vector gives the sum of the previous number_categories elements\n",
      "categories = range(0,number_categories)       # Gives a list of the form [0,1,...,20]\n",
      "\n",
      "plt.clf()\n",
      "plt.plot(range(1,number_categories+1),x[:number_categories],'ro')\n",
      "plt.ylabel('expenditure')\n",
      "plt.xlabel('categories')\n",
      "plt.axis([0.5,number_categories+0.5,-90,26000])\n",
      "plt.title('Figure 1: Average expenditure per category')\n",
      "plt.savefig('healthcare_expenditure.png')"
     ],
     "language": "python",
     "metadata": {},
     "outputs": [
      {
       "metadata": {},
       "output_type": "display_data",
       "png": "[encoded data removed]",
       "text": [
        "<matplotlib.figure.Figure at 0x10ffffad0>"
       ]
      }
     ],
     "prompt_number": 2
    },
    {
     "cell_type": "markdown",
     "metadata": {},
     "source": [
      "The 20 vignitiles represent 20 persons in terms of health care expenditure that we use for our model. These 20 _individuals_ represent the whole health care sector (Zvw) for which the deductible applies. This means that health care provided by GP's and maternity care are excluded. In this basic model, other consumer or patient characteristics are not taken into account. "
     ]
    },
    {
     "cell_type": "markdown",
     "metadata": {},
     "source": [
      "# Elasticity\n",
      "\n",
      "We work with a constant elasticity utility function $u(z)=\\alpha z^{\\gamma}$, where $z$ denotes the health care expenditure. \n",
      "Note that defining utility on expenditure (instead of quantity) is rather unusual. The problem is that we do not have data on the quantity of care consumed and hence this is the best that we can do. \n",
      "\n",
      "Let $p \\in [0,1]$ denote the co-payment that the agent pays out-of-pocket of expenditure $z$. That is, a fraction $p$ of expenditure $z$ is paid by the agent out-of-pocket.\n",
      "\n",
      "The agent solves\n",
      "$$\n",
      "\\max_z u(z) - pz\n",
      "$$\n",
      "Taking the first order condition, we can solve for $z$ as\n",
      "$$\n",
      "z(p) = \\left(\\frac{p}{\\alpha \\gamma} \\right)^{\\gamma-1}\n",
      "$$\n",
      "The elasticity w.r.t. $p$ can be defined as\n",
      "$$\n",
      "E = \\frac{d\\ln z}{d\\ln p} = \\gamma -1\n",
      "$$\n",
      "\n",
      "Based on the RAND experiment, we calibrate $E = -0.2$ and hence $\\gamma = 0.8$. This is based on a number of assumptions. First, [Aron-Dine et al. 2013](http://pubs.aeaweb.org/doi/pdfplus/10.1257/jep.27.1.197) explain that the elasticity of $-0.2$ is based on subjects in the experiment that are bounded away from their max. expenditure. This is indeed what the function $z(p)$ measures. Second, the subjects in the experiment that had expenditures in excess of their max. expenditure, may have a different value of $\\gamma$, while we assume that $\\gamma$ is the same for all subjects. Finally, $-0.2$ is actually based on an arc-elasticity defined as\n",
      "$$\n",
      "E_{arc} = \\frac{\\frac{z_2-z_1}{(z_1+z_2)/2}}{\\frac{p_2-p_1}{(p_1+p_2)/2}}\n",
      "$$\n",
      "and we approximate this using the standard elasticity $E$. The advantage of our approach is that with the utility function that we use, the standard elasticity is constant (i.e. does not depend on $p$) and hence is easy to calibrate.\n",
      "\n"
     ]
    },
    {
     "cell_type": "markdown",
     "metadata": {},
     "source": [
      "# Deductible\n",
      "\n",
      "The Dutch data that we use are from 2013 when there was a deductible equal to 350 euro. Hence, agents faced a payment function $t(z)$ given by\n",
      "$$\n",
      "t(z) = \\begin{cases}\n",
      "z & \\text{ if } z \\leq 350 \\\\\n",
      "350 & \\text{ if } z > 350\n",
      "\\end{cases}\n",
      "$$\n",
      "And an agent solves\n",
      "$$\n",
      "\\max_z u(z) - t(z)\n",
      "$$\n",
      "\n",
      "An agent who knows that he will spend more than 350, faces a price equal to zero while $u'(z)>0$ for all $z \\geq 0$. Hence, he would like to spend $z = +\\infty$. To keep the optimization well specified, we make the following assumptions.\n",
      "\n",
      "First, each agent knows her category $i$ (out of the 20 categories above) perfectly at the start of the period. Second, each category $i$ is characterized by a max. expenditure $\\bar z_i$. Intuitively, if you stay healthy the whole year, you cannot spend 10.000 euro on health care. Although there is discretion at the margin, it is not possible to generate any expenditure independently from health status.\n",
      "\n",
      "Hence, our model has 20 agent types and a type $i$ is characterised by the max. expenditure $\\bar z_i$. We will calibrate $\\bar z_i$. Admittedly, assuming that each type perfectly knows his type is extreme. However, it seems a good starting point.\n",
      "\n",
      "An alternative approach here can be the following. Although the expenditures on health are fully reimbursed (for $z \\geq 350$) there are other costs involved in visiting a provider. One has to travel to the physician, take a day off from work, undergoing examination/treatment generates dis-utility etc. Such considerations can also stop people from spending $z =+\\infty$.\n",
      "\n",
      "Agent $i$'s optimization problem now becomes\n",
      "$$\n",
      "\\max_{z \\leq \\bar z_i} u(z) - t(z)\n",
      "$$\n",
      "\n",
      "We use the following specification for $z_i$:\n",
      "$$\n",
      "z_i = ???\n",
      "$$"
     ]
    },
    {
     "cell_type": "code",
     "collapsed": false,
     "input": [
      "def t(z,deduct):\n",
      "   if z < deduct:\n",
      "     t = z\n",
      "   else: \n",
      "     t = deduct\n",
      "   return t\n",
      "\n",
      "        \n",
      "def bar_z(a,b,c):\n",
      "   z = [a*i**2+b*i+c for i in categories] \n",
      "   return z\n",
      "\n",
      "\n"
     ],
     "language": "python",
     "metadata": {},
     "outputs": [],
     "prompt_number": 87
    },
    {
     "cell_type": "markdown",
     "metadata": {},
     "source": [
      "# Health care consumption\n",
      "\n"
     ]
    },
    {
     "cell_type": "code",
     "collapsed": false,
     "input": [
      "\n",
      "def health_consumption(i,z_bar,alpha,t,gamma=0.8):\n",
      "    cons = optimize.brute(lambda z: -(alpha*z**gamma-t(z)), ((0,z_bar[i]),), finish = None) \n",
      "                                                  # This is the routine that finds the z which maximizes patient's utility\n",
      "    return cons\n",
      "\n",
      "def vector_expenditures(z_bar,alpha,t,gamma=0.8): \n",
      "    z = [health_consumption(i,z_bar,alpha,t) for i in categories]\n",
      "    return z"
     ],
     "language": "python",
     "metadata": {},
     "outputs": [],
     "prompt_number": 88
    },
    {
     "cell_type": "markdown",
     "metadata": {},
     "source": [
      "# Calibration\n",
      "\n",
      "\n",
      "Here we specify the function that we would like to minimize to get the best fit. This objective function consists of two parts. First, we fit for each category the predicted spending of this category with the VWS data. Second, we our data on elasticities by Van Vliet (2004). We use the three datapoints from Table 1 above (alternative deductible 0, 1, 2 and 3) This we fit as well."
     ]
    },
    {
     "cell_type": "code",
     "collapsed": false,
     "input": [
      "\n",
      "base_deductible = 350.0\n",
      "def criterion(par):         # Vector par = alpha, a, b,c\n",
      "    predicted_cons = vector_expenditures(bar_z(par[1],par[2],par[3]),par[0],lambda x, deduct = base_deductible: t(x,deduct))\n",
      "    difference = map(sub, predicted_cons[:number_categories],x[:number_categories]) ### \n",
      "    return sum(array(difference)**2)"
     ],
     "language": "python",
     "metadata": {},
     "outputs": [],
     "prompt_number": 89
    },
    {
     "cell_type": "markdown",
     "metadata": {},
     "source": [
      "These are the results of our calibration. We assign them to our parameters. "
     ]
    },
    {
     "cell_type": "code",
     "collapsed": false,
     "input": [
      "f = lambda x: criterion(x)\n",
      "p = GLP(f, lb = [0.0, 0.0, 0.0, 0.0],  ub = [10.0, 100.0, 100.0, 10.0],  maxIter = 1e3,  maxFunEvals = 1e5) #,  maxTime = 20,  maxCPUTime = 20)\n",
      "r = p.solve('de', plot=0)\n",
      "x_opt,  f_opt = r.xf,  r.ff\n",
      "print x_opt, f_opt"
     ],
     "language": "python",
     "metadata": {},
     "outputs": [
      {
       "output_type": "stream",
       "stream": "stdout",
       "text": [
        "-----------------------------------------------------\n",
        "solver: de   problem: unnamed\n",
        " iter    objFunVal   \n",
        "    0  7.643e+08 \n",
        "   10  2.217e+08 "
       ]
      },
      {
       "output_type": "stream",
       "stream": "stdout",
       "text": [
        "\n",
        "   20  2.217e+08 "
       ]
      },
      {
       "output_type": "stream",
       "stream": "stdout",
       "text": [
        "\n",
        "   30  2.072e+08 "
       ]
      },
      {
       "output_type": "stream",
       "stream": "stdout",
       "text": [
        "\n",
        "   40  2.072e+08 "
       ]
      },
      {
       "output_type": "stream",
       "stream": "stdout",
       "text": [
        "\n",
        "   50  2.001e+08 "
       ]
      },
      {
       "output_type": "stream",
       "stream": "stdout",
       "text": [
        "\n",
        "   60  1.931e+08 "
       ]
      },
      {
       "output_type": "stream",
       "stream": "stdout",
       "text": [
        "\n",
        "   70  1.869e+08 "
       ]
      },
      {
       "output_type": "stream",
       "stream": "stdout",
       "text": [
        "\n",
        "   80  1.825e+08 "
       ]
      },
      {
       "output_type": "stream",
       "stream": "stdout",
       "text": [
        "\n",
        "   90  1.808e+08 "
       ]
      },
      {
       "output_type": "stream",
       "stream": "stdout",
       "text": [
        "\n",
        "  100  1.783e+08 "
       ]
      },
      {
       "output_type": "stream",
       "stream": "stdout",
       "text": [
        "\n",
        "  110  1.735e+08 "
       ]
      },
      {
       "output_type": "stream",
       "stream": "stdout",
       "text": [
        "\n",
        "  120  1.700e+08 "
       ]
      },
      {
       "output_type": "stream",
       "stream": "stdout",
       "text": [
        "\n",
        "  130  1.667e+08 "
       ]
      },
      {
       "output_type": "stream",
       "stream": "stdout",
       "text": [
        "\n",
        "  140  1.660e+08 "
       ]
      },
      {
       "output_type": "stream",
       "stream": "stdout",
       "text": [
        "\n",
        "  150  1.649e+08 "
       ]
      },
      {
       "output_type": "stream",
       "stream": "stdout",
       "text": [
        "\n",
        "  160  1.632e+08 "
       ]
      },
      {
       "output_type": "stream",
       "stream": "stdout",
       "text": [
        "\n",
        "  170  1.609e+08 "
       ]
      },
      {
       "output_type": "stream",
       "stream": "stdout",
       "text": [
        "\n",
        "  180  1.600e+08 "
       ]
      },
      {
       "output_type": "stream",
       "stream": "stdout",
       "text": [
        "\n",
        "  190  1.578e+08 "
       ]
      },
      {
       "output_type": "stream",
       "stream": "stdout",
       "text": [
        "\n",
        "  200  1.572e+08 "
       ]
      },
      {
       "output_type": "stream",
       "stream": "stdout",
       "text": [
        "\n",
        "  210  1.552e+08 "
       ]
      },
      {
       "output_type": "stream",
       "stream": "stdout",
       "text": [
        "\n",
        "  220  1.528e+08 "
       ]
      },
      {
       "output_type": "stream",
       "stream": "stdout",
       "text": [
        "\n",
        "  230  1.505e+08 "
       ]
      },
      {
       "output_type": "stream",
       "stream": "stdout",
       "text": [
        "\n",
        "  240  1.491e+08 "
       ]
      },
      {
       "output_type": "stream",
       "stream": "stdout",
       "text": [
        "\n",
        "  250  1.474e+08 "
       ]
      },
      {
       "output_type": "stream",
       "stream": "stdout",
       "text": [
        "\n",
        "  260  1.461e+08 "
       ]
      },
      {
       "output_type": "stream",
       "stream": "stdout",
       "text": [
        "\n",
        "  270  1.456e+08 "
       ]
      },
      {
       "output_type": "stream",
       "stream": "stdout",
       "text": [
        "\n",
        "  280  1.450e+08 "
       ]
      },
      {
       "output_type": "stream",
       "stream": "stdout",
       "text": [
        "\n",
        "  290  1.445e+08 "
       ]
      },
      {
       "output_type": "stream",
       "stream": "stdout",
       "text": [
        "\n",
        "  300  1.443e+08 "
       ]
      },
      {
       "output_type": "stream",
       "stream": "stdout",
       "text": [
        "\n",
        "  310  1.440e+08 "
       ]
      },
      {
       "output_type": "stream",
       "stream": "stdout",
       "text": [
        "\n",
        "  320  1.437e+08 "
       ]
      },
      {
       "output_type": "stream",
       "stream": "stdout",
       "text": [
        "\n",
        "  330  1.435e+08 "
       ]
      },
      {
       "output_type": "stream",
       "stream": "stdout",
       "text": [
        "\n",
        "  340  1.432e+08 "
       ]
      },
      {
       "output_type": "stream",
       "stream": "stdout",
       "text": [
        "\n",
        "  350  1.429e+08 "
       ]
      },
      {
       "output_type": "stream",
       "stream": "stdout",
       "text": [
        "\n",
        "  360  1.426e+08 "
       ]
      },
      {
       "output_type": "stream",
       "stream": "stdout",
       "text": [
        "\n",
        "  370  1.425e+08 "
       ]
      },
      {
       "output_type": "stream",
       "stream": "stdout",
       "text": [
        "\n",
        "  380  1.422e+08 "
       ]
      },
      {
       "output_type": "stream",
       "stream": "stdout",
       "text": [
        "\n",
        "  390  1.418e+08 "
       ]
      },
      {
       "output_type": "stream",
       "stream": "stdout",
       "text": [
        "\n",
        "  400  1.417e+08 "
       ]
      },
      {
       "output_type": "stream",
       "stream": "stdout",
       "text": [
        "\n",
        "  410  1.416e+08 "
       ]
      },
      {
       "output_type": "stream",
       "stream": "stdout",
       "text": [
        "\n",
        "  420  1.411e+08 "
       ]
      },
      {
       "output_type": "stream",
       "stream": "stdout",
       "text": [
        "\n",
        "  430  1.408e+08 "
       ]
      },
      {
       "output_type": "stream",
       "stream": "stdout",
       "text": [
        "\n",
        "  440  1.401e+08 "
       ]
      },
      {
       "output_type": "stream",
       "stream": "stdout",
       "text": [
        "\n",
        "  450  1.396e+08 "
       ]
      },
      {
       "output_type": "stream",
       "stream": "stdout",
       "text": [
        "\n",
        "  460  1.389e+08 "
       ]
      },
      {
       "output_type": "stream",
       "stream": "stdout",
       "text": [
        "\n",
        "  470  1.385e+08 "
       ]
      },
      {
       "output_type": "stream",
       "stream": "stdout",
       "text": [
        "\n",
        "  480  1.382e+08 "
       ]
      },
      {
       "output_type": "stream",
       "stream": "stdout",
       "text": [
        "\n",
        "  490  1.379e+08 "
       ]
      },
      {
       "output_type": "stream",
       "stream": "stdout",
       "text": [
        "\n",
        "  500  1.375e+08 "
       ]
      },
      {
       "output_type": "stream",
       "stream": "stdout",
       "text": [
        "\n",
        "  510  1.365e+08 "
       ]
      },
      {
       "output_type": "stream",
       "stream": "stdout",
       "text": [
        "\n",
        "  520  1.351e+08 "
       ]
      },
      {
       "output_type": "stream",
       "stream": "stdout",
       "text": [
        "\n",
        "  530  1.321e+08 "
       ]
      },
      {
       "output_type": "stream",
       "stream": "stdout",
       "text": [
        "\n",
        "  540  1.294e+08 "
       ]
      },
      {
       "output_type": "stream",
       "stream": "stdout",
       "text": [
        "\n",
        "  550  1.280e+08 "
       ]
      },
      {
       "output_type": "stream",
       "stream": "stdout",
       "text": [
        "\n",
        "  560  1.267e+08 "
       ]
      },
      {
       "output_type": "stream",
       "stream": "stdout",
       "text": [
        "\n",
        "  570  1.255e+08 "
       ]
      },
      {
       "output_type": "stream",
       "stream": "stdout",
       "text": [
        "\n",
        "  580  1.246e+08 "
       ]
      },
      {
       "output_type": "stream",
       "stream": "stdout",
       "text": [
        "\n",
        "  590  1.242e+08 "
       ]
      },
      {
       "output_type": "stream",
       "stream": "stdout",
       "text": [
        "\n",
        "  600  1.240e+08 "
       ]
      },
      {
       "output_type": "stream",
       "stream": "stdout",
       "text": [
        "\n",
        "  610  1.238e+08 "
       ]
      },
      {
       "output_type": "stream",
       "stream": "stdout",
       "text": [
        "\n",
        "  620  1.237e+08 "
       ]
      },
      {
       "output_type": "stream",
       "stream": "stdout",
       "text": [
        "\n",
        "  630  1.236e+08 "
       ]
      },
      {
       "output_type": "stream",
       "stream": "stdout",
       "text": [
        "\n",
        "  640  1.235e+08 "
       ]
      },
      {
       "output_type": "stream",
       "stream": "stdout",
       "text": [
        "\n",
        "  650  1.235e+08 "
       ]
      },
      {
       "output_type": "stream",
       "stream": "stdout",
       "text": [
        "\n",
        "  660  1.234e+08 "
       ]
      },
      {
       "output_type": "stream",
       "stream": "stdout",
       "text": [
        "\n",
        "  670  1.234e+08 "
       ]
      },
      {
       "output_type": "stream",
       "stream": "stdout",
       "text": [
        "\n",
        "  680  1.234e+08 "
       ]
      },
      {
       "output_type": "stream",
       "stream": "stdout",
       "text": [
        "\n",
        "  690  1.233e+08 "
       ]
      },
      {
       "output_type": "stream",
       "stream": "stdout",
       "text": [
        "\n",
        "  700  1.233e+08 "
       ]
      },
      {
       "output_type": "stream",
       "stream": "stdout",
       "text": [
        "\n",
        "  710  1.232e+08 "
       ]
      },
      {
       "output_type": "stream",
       "stream": "stdout",
       "text": [
        "\n",
        "  720  1.232e+08 "
       ]
      },
      {
       "output_type": "stream",
       "stream": "stdout",
       "text": [
        "\n",
        "  730  1.231e+08 "
       ]
      },
      {
       "output_type": "stream",
       "stream": "stdout",
       "text": [
        "\n",
        "  740  1.231e+08 "
       ]
      },
      {
       "output_type": "stream",
       "stream": "stdout",
       "text": [
        "\n",
        "  750  1.230e+08 "
       ]
      },
      {
       "output_type": "stream",
       "stream": "stdout",
       "text": [
        "\n",
        "  760  1.229e+08 "
       ]
      },
      {
       "output_type": "stream",
       "stream": "stdout",
       "text": [
        "\n",
        "  770  1.228e+08 "
       ]
      },
      {
       "output_type": "stream",
       "stream": "stdout",
       "text": [
        "\n",
        "  780  1.228e+08 "
       ]
      },
      {
       "output_type": "stream",
       "stream": "stdout",
       "text": [
        "\n",
        "  790  1.227e+08 "
       ]
      },
      {
       "output_type": "stream",
       "stream": "stdout",
       "text": [
        "\n",
        "  800  1.226e+08 "
       ]
      },
      {
       "output_type": "stream",
       "stream": "stdout",
       "text": [
        "\n",
        "  810  1.224e+08 "
       ]
      },
      {
       "output_type": "stream",
       "stream": "stdout",
       "text": [
        "\n",
        "  820  1.223e+08 "
       ]
      },
      {
       "output_type": "stream",
       "stream": "stdout",
       "text": [
        "\n",
        "  830  1.221e+08 "
       ]
      },
      {
       "output_type": "stream",
       "stream": "stdout",
       "text": [
        "\n",
        "  840  1.219e+08 "
       ]
      },
      {
       "output_type": "stream",
       "stream": "stdout",
       "text": [
        "\n",
        "  850  1.217e+08 "
       ]
      },
      {
       "output_type": "stream",
       "stream": "stdout",
       "text": [
        "\n",
        "  860  1.216e+08 "
       ]
      },
      {
       "output_type": "stream",
       "stream": "stdout",
       "text": [
        "\n",
        "  870  1.213e+08 "
       ]
      },
      {
       "output_type": "stream",
       "stream": "stdout",
       "text": [
        "\n",
        "  880  1.211e+08 "
       ]
      },
      {
       "output_type": "stream",
       "stream": "stdout",
       "text": [
        "\n",
        "  890  1.210e+08 "
       ]
      },
      {
       "output_type": "stream",
       "stream": "stdout",
       "text": [
        "\n",
        "  900  1.209e+08 "
       ]
      },
      {
       "output_type": "stream",
       "stream": "stdout",
       "text": [
        "\n",
        "  910  1.209e+08 "
       ]
      },
      {
       "output_type": "stream",
       "stream": "stdout",
       "text": [
        "\n",
        "  920  1.209e+08 "
       ]
      },
      {
       "output_type": "stream",
       "stream": "stdout",
       "text": [
        "\n",
        "  930  1.208e+08 "
       ]
      },
      {
       "output_type": "stream",
       "stream": "stdout",
       "text": [
        "\n",
        "  940  1.208e+08 "
       ]
      },
      {
       "output_type": "stream",
       "stream": "stdout",
       "text": [
        "\n",
        "  950  1.208e+08 "
       ]
      },
      {
       "output_type": "stream",
       "stream": "stdout",
       "text": [
        "\n",
        "  960  1.208e+08 "
       ]
      },
      {
       "output_type": "stream",
       "stream": "stdout",
       "text": [
        "\n",
        "  970  1.207e+08 "
       ]
      },
      {
       "output_type": "stream",
       "stream": "stdout",
       "text": [
        "\n",
        "  980  1.207e+08 "
       ]
      },
      {
       "output_type": "stream",
       "stream": "stdout",
       "text": [
        "\n",
        "  990  1.207e+08 "
       ]
      },
      {
       "output_type": "stream",
       "stream": "stdout",
       "text": [
        "\n",
        " 1000  1.206e+08 "
       ]
      },
      {
       "output_type": "stream",
       "stream": "stdout",
       "text": [
        "\n",
        " 1001  1.206e+08 \n",
        "istop: -7(Max Iter has been reached)\n",
        "Solver:   Time Elapsed = 256.51 \tCPU Time Elapsed = 256.756994\n",
        "objFunValue: 1.2063765e+08 (feasible, MaxResidual = 3.79243e-07)\n",
        "[   0.13814687   47.81347668  100.00000038   10.0000003 ] 120637652.95\n"
       ]
      }
     ],
     "prompt_number": 95
    },
    {
     "cell_type": "code",
     "collapsed": false,
     "input": [
      "# [ 0.91681935  0.51998463  0.10547745] 67395719.3619\n",
      "# x_opt = [ 0.91681935,  0.51998463,  0.10547745]\n",
      "alpha, a, b, c = x_opt[0], x_opt[1], x_opt[2], x_opt[3]\n",
      "x_predicted = vector_expenditures(bar_z(a,b,c),alpha,lambda x, deduct = base_deductible: t(x,deduct))\n"
     ],
     "language": "python",
     "metadata": {},
     "outputs": [],
     "prompt_number": 96
    },
    {
     "cell_type": "code",
     "collapsed": false,
     "input": [],
     "language": "python",
     "metadata": {},
     "outputs": []
    }
   ],
   "metadata": {}
  }
 ]
}