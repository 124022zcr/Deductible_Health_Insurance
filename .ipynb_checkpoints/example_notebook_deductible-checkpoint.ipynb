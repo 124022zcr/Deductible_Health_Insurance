{
 "metadata": {
  "name": "",
  "signature": "sha256:38797783dc2d06611f6132354ce301a531f093d3c04f377d4aa15ecf8d994d5d"
 },
 "nbformat": 3,
 "nbformat_minor": 0,
 "worksheets": [
  {
   "cells": [
    {
     "cell_type": "markdown",
     "metadata": {},
     "source": [
      "# Changing the deductible in Dutch basic health insurance\n",
      "\n",
      "Jan Boone, Rudy Douven and Minke Remmerswaal, May 8th, 2015\n",
      "\n",
      "This notebook shows how a simple python model can be calibrated to analyze the effects of changing the deductible in a health insurance market. We calibrate the model on aggregate data for the Dutch basic health insurance market and the elasticity as it is found in the [RAND Health Insurance Experiment](http://www.rand.org/health/projects/hie.html).\n",
      "\n",
      "This page is for educational purposes only and should not be used for policy analysis.\n",
      "\n",
      "The python code and data used here can be found at [github](https://github.com/janboone/Deductible_Health_Insurance).\n",
      "\n"
     ]
    },
    {
     "cell_type": "markdown",
     "metadata": {},
     "source": [
      "# Question\n",
      "\n",
      "What would be the percentage reduction in Dutch health care expenditure if the deductible is doubled?\n",
      "\n",
      "## motivation\n",
      "\n",
      "The Dutch government is worried about both the level and the growth of health care expenditures covered by mandatory basic insurance. Demand side cost sharing is one of the policies it is considering to reduce (the growth in) health care expenditures. In 2015 this deductible equals [375 euro](http://www.rijksoverheid.nl/onderwerpen/zorgverzekering/eigen-risico-zorgverzekering). What would happen to health care expenditure (covered by basic insurance) if the deductible is doubled?\n",
      "\n",
      "## method\n",
      "\n",
      "We have been able to find [data](#data) for 2013 when the deductible was 350 euro. Using this data and the elasticity of $-0.2$ as it is found in the [RAND Health Insurance Experiment](http://www.rand.org/health/projects/hie.html), we calibrate a simple model where an agent faces exogenous health care expenditure (like breaking a leg) and can decide endogenously to consume more health care. With this calibrated model, we simulate the effect of doubling the deductible from 375 to 750 euro.\n",
      "\n",
      "## answer\n",
      "\n",
      "Our [conclusion](#conclusion) is that increasing the deductible in 2013 from 375 to 750 reduces health care expenditure by 3.0%. Assuming that doubling the deductible in 2015 leads to similar effects, the answer to our question is 3.0%.\n",
      "\n",
      "## main assumptions\n",
      "\n",
      "* we use a [utility function](#elasticity) with a constant price elasticity, that is the elasticity is constant across spending categories;\n",
      "* we take the elasticity from the [RAND Health Insurance Experiment](http://www.rand.org/health/projects/hie.html) that was done in the US in the 70's and 80's and apply this to the Netherlands in 2015;\n",
      "* we assume that agents can perfectly predict in which spending category they will end up\n",
      "\n",
      "We do some [sensitivity analysis](#robustness) with respect to the value of the elasticity to address the second main assumption.\n"
     ]
    },
    {
     "cell_type": "markdown",
     "metadata": {},
     "source": [
      "# Importing libraries and data\n",
      "\n",
      "We use the following python packages to run the model. "
     ]
    },
    {
     "cell_type": "code",
     "collapsed": false,
     "input": [
      "from __future__ import division\n",
      "from numpy import *\n",
      "from operator import *\n",
      "import matplotlib.pyplot as plt\n",
      "from scipy import optimize, arange\n",
      "from operator import add\n",
      "from openopt import GLP\n",
      "from mpmath import findroot\n",
      "%matplotlib inline"
     ],
     "language": "python",
     "metadata": {},
     "outputs": [],
     "prompt_number": 1
    },
    {
     "cell_type": "markdown",
     "metadata": {},
     "source": [
      "## data\n",
      "\n",
      "The data that we use, come from page 13 in this [CPB report](http://www.cpb.nl/sites/default/files/publicaties/bijlagen/bijlage-4-toelichting-op-de-effecten-van-eigen-betalingen-de-zorg.pdf).\n",
      "\n",
      "The data comprise health care expenditures for mandatory basic insurance in 2013 for all insured Dutch citizens of at least 18 years old. These are expenditures that fall under the deductible. For instance, expenditures on primary physicians and maternity care are excluded, as these are excluded from the deductible. All excluded categories can be found [here](http://www.rijksoverheid.nl/onderwerpen/zorgverzekering/vraag-en-antwoord/hoe-hoog-is-het-eigen-risico-in-de-zorgverzekering.html). Also, there is no deductible for people [below 18 years](http://www.rijksoverheid.nl/onderwerpen/zorgverzekering/eigen-risico-zorgverzekering).\n",
      "\n",
      "Health care expenditures per insured person are given for 20 categories, so called _vignitiles_ based on average total health care expenditure in ascending order. Each category comprises about 600,000 individuals. \n",
      "\n",
      "\n"
     ]
    },
    {
     "cell_type": "code",
     "collapsed": false,
     "input": [
      "x = []\n",
      "input_file = open('Data.csv')\n",
      "for line in input_file:\n",
      "    if (line.split(';')[0] != 'klasse'): # We skip the first line\n",
      "       x.extend([eval(line.split(';')[1])])\n",
      "\n",
      "input_file.close()\n",
      "\n",
      "x.sort()                                 # This line makes sure that expenditures relevant for deductible are increasing in category number\n",
      "number_categories = size(x)              # The number of categories in the data\n",
      "total = sum(x)\n",
      "x.extend([total])\n",
      "\n",
      "summed = number_categories                    # Position summed of a vector gives the sum of the previous number_categories elements\n",
      "categories = range(0,number_categories)       # Gives a list of the form [0,1,...,20]\n",
      "\n",
      "plt.clf()\n",
      "plt.plot(range(1,number_categories+1),x[:number_categories],'ro')\n",
      "plt.ylabel('expenditure')\n",
      "plt.xlabel('categories')\n",
      "plt.axis([0.5,number_categories+0.5,-90,26000])\n",
      "plt.title('Figure 1: Average expenditure per category')\n",
      "plt.savefig('healthcare_expenditure.png')"
     ],
     "language": "python",
     "metadata": {},
     "outputs": [
      {
       "metadata": {},
       "output_type": "display_data",
       "png": "[encoded data removed]",
       "text": [
        "<matplotlib.figure.Figure at 0x1107ffad0>"
       ]
      }
     ],
     "prompt_number": 2
    },
    {
     "cell_type": "markdown",
     "metadata": {},
     "source": [
      "The 20 vignitiles represent 20 persons in terms of health care expenditure that we use for our model. These 20 _individuals_ represent the whole health care sector (Zvw) for which the deductible applies."
     ]
    },
    {
     "cell_type": "markdown",
     "metadata": {},
     "source": [
      "# Elasticity\n",
      "\n",
      "We work with a constant elasticity utility function $u(z)=\\alpha z^{\\gamma}$, where $z$ denotes the health care expenditure. \n",
      "Note that defining utility on expenditure (instead of quantity) is rather unusual. The problem is that we do not have data on the quantity of care consumed and hence this is the best that we can do. \n",
      "\n",
      "Let $p \\in [0,1]$ denote the co-payment that the agent pays out-of-pocket of expenditure $z$. That is, a fraction $p$ of expenditure $z$ is paid by the agent out-of-pocket.\n",
      "\n",
      "The agent solves\n",
      "$$\n",
      "\\max_z u(z) - pz\n",
      "$$\n",
      "Taking the first order condition, we can solve for $z$ as\n",
      "$$\n",
      "z(p) = \\left(\\frac{p}{\\alpha \\gamma} \\right)^{\\gamma-1}\n",
      "$$\n",
      "The elasticity w.r.t. $p$ can be defined as\n",
      "$$\n",
      "E = \\frac{d\\ln z}{d\\ln p} = \\gamma -1\n",
      "$$\n",
      "\n",
      "Based on the RAND experiment, we calibrate $E = -0.2$ and hence $\\gamma = 0.8$. This is based on a number of assumptions. First, [Aron-Dine et al. 2013](http://pubs.aeaweb.org/doi/pdfplus/10.1257/jep.27.1.197) explain that the elasticity of $-0.2$ is based on subjects in the experiment that are bounded away from their max. expenditure. This is indeed what the function $z(p)$ measures. Second, the subjects in the experiment that had expenditures in excess of their max. expenditure, may have a different value of $\\gamma$, while we assume that $\\gamma$ is the same for all subjects. Finally, $-0.2$ is actually based on an arc-elasticity defined as\n",
      "$$\n",
      "E_{arc} = \\frac{\\frac{z_2-z_1}{(z_1+z_2)/2}}{\\frac{p_2-p_1}{(p_1+p_2)/2}}\n",
      "$$\n",
      "and we approximate this using the standard elasticity $E$. The advantage of our approach is that with the utility function that we use, the standard elasticity is constant (i.e. does not depend on $p$) and hence is easy to calibrate.\n",
      "\n"
     ]
    },
    {
     "cell_type": "markdown",
     "metadata": {},
     "source": [
      "# Deductible\n",
      "\n",
      "The Dutch data that we use are from 2013 when there was a deductible equal to 350 euro. Hence, agents faced a payment function $t(z)$ given by\n",
      "$$\n",
      "t(z) = \\begin{cases}\n",
      "z & \\text{ if } z \\leq 350 \\\\\n",
      "350 & \\text{ if } z > 350\n",
      "\\end{cases}\n",
      "$$\n",
      "\n"
     ]
    },
    {
     "cell_type": "code",
     "collapsed": false,
     "input": [
      "def t(z,deduct):\n",
      "   if z < deduct:\n",
      "     t = z\n",
      "   else: \n",
      "     t = deduct\n",
      "   return t\n"
     ],
     "language": "python",
     "metadata": {},
     "outputs": [],
     "prompt_number": 6
    },
    {
     "cell_type": "markdown",
     "metadata": {},
     "source": [
      "# Health care consumption\n",
      "\n",
      "We assume that an agent's health care expenditure consists of two parts: exogenous health care consumption, denoted $y$, and endogenous consumption, $z$. Further, we need to specify a max. expenditure that an agent can choose. Indeed, if an agent spends more than the deductible 350, health care is free at the margin while $u'>0$.\n",
      "\n",
      "## exogenous health care expenditure\n",
      "\n",
      "We assume that an agent in category $i$ has health care costs $y_{i}$\n",
      "that are beyond her control. If you break a leg, you are taken to hospital\n",
      "with an ambulance and \"plastered up\". There is no discretion on the patient's side.\n",
      "\n",
      "The essential feature of $y_{i}$ is that it cannot be affected by demand side incentives.\n",
      "This does not mean that $y_i$ is necessarily efficient (there can be\n",
      "supply-induced demand). It only means that increasing co-payments, deductibles etc.\n",
      "will not affect $y_{i}$. We call this the exogenous part of health care expenditure for the patient.\n",
      "\n",
      "\n",
      "## max. health care expenditure\n",
      "\n",
      "The discretionary or endogenous part of health care consumption is denoted $z_i$ and we assume that there is a finite upperbound $\\bar z_i$. This upperbound makes sense intuitively. A patient cannot simply decide\n",
      "to undergo operations for one million euros. Depending on the disease there\n",
      "is a max. amount of money that the patient can make physicians spend on\n",
      "her. \n",
      "\n",
      "Further, we assume that an agent in category $i$ knows that she is in category $i$. Hence, agent $i$ solves\n",
      "\n",
      "$$\n",
      "\\max_{z_i \\leq \\bar z_i} \\{u(y_i+z_i)-t(y_i+z_i)\\}\n",
      "$$\n",
      "\n",
      "The fact that $z_{i}$ is chosen by the patient does not mean that it is inefficient. Even if the patient has to pay $z_{i}$ herself, she may still decide to have $z_{i}>0$.\n",
      "\n",
      "\n",
      "Finally, we assume that there is a link between $\\bar z_i$ and $y_i$. The higher $y_i$, the more room there is for discretionary expenditure $z_i$. If you are healthy and have low costs $y_i$, it is hard to generate a high health care bill. If you are already being treated with high $y_i$, you can ask for additional tests and treatments. In particular, we assume the functional form for this relation:\n",
      "$$\n",
      "\\overline{z}_i = \\bar{z}y_i^2\n",
      "$$\n",
      "where we calibrate $\\bar{z}$. \n",
      "\n",
      "\n",
      "Finally, we assume a distribution for exogenous expenditure $y_i$. A simple distribution is the exponential distribution. This distribution is governed by one parameter $\\zeta$:\n",
      "$$\n",
      "f(y) = \\zeta e^{-\\zeta y}\n",
      "$$\n",
      "We need to identify the 1/20-th parts of this distribution. We do this as follows.\n",
      "\n",
      "First, because of the indexing of arrays in python, we use $y_0,...,y_{19}$. Let $y_0$ denote the point where $F(y_0)=1/20\u22171/2$: mid-point of the histogram bar containing the lowest 5 percent of the distribution. Hence, we have $F(y_i)=i/20+1/20\u22171/2$. Or equivalently, $y_i=\u22121/\\zeta \\ln(1\u2212i/20 \u22121/2 1/20)$ for $i=0,1,...,19$.\n"
     ]
    },
    {
     "cell_type": "code",
     "collapsed": false,
     "input": [
      "def y(zeta):\n",
      "   y = [-1/zeta*log(1-i/number_categories-1/2*1/number_categories) for i in categories]\n",
      "   return y\n",
      "\n",
      "def health_consumption(i,zeta,z_bar,alpha,t,gamma=0.8): # total health care consumption of type i\n",
      "    cons = optimize.brute(lambda z: -(alpha*(z+y(zeta)[i])**gamma-t(z+y(zeta)[i])), ((0,z_bar*y(zeta)[i]**2),), finish = None) \n",
      "                                                  # This is the routine that finds the z which maximizes patient's utility\n",
      "    return cons+y(zeta)[i]\n",
      "\n",
      "def vector_expenditures(zeta,z_bar,alpha,t,gamma=0.8): \n",
      "    z = [health_consumption(i,zeta,z_bar,alpha,t) for i in categories]\n",
      "    return z"
     ],
     "language": "python",
     "metadata": {},
     "outputs": [],
     "prompt_number": 7
    },
    {
     "cell_type": "markdown",
     "metadata": {},
     "source": [
      "# Calibration\n",
      "\n",
      "We need to find values for the parameters: $\\alpha,\\gamma, \\zeta, \\bar z$. As explained [above](#elasticity), we set $\\gamma = 0.8$.\n",
      "\n",
      "Here we specify the function `criterion` that we would like to minimize to get the best fit. We take the sum of squared differences between the actual values of $x_i$ in the [data](#data) and consumption predicted by the function `health_consumption`."
     ]
    },
    {
     "cell_type": "code",
     "collapsed": false,
     "input": [
      "base_deductible = 350.0\n",
      "def criterion(par):         # Vector par = zeta, z_bar, alpha\n",
      "    predicted_cons = vector_expenditures(par[0],par[1],par[2],lambda x, deduct = base_deductible: t(x,deduct))\n",
      "    difference = map(sub, predicted_cons[:number_categories],x[:number_categories]) ### \n",
      "    return sum(array(difference)**2)"
     ],
     "language": "python",
     "metadata": {},
     "outputs": [],
     "prompt_number": 8
    },
    {
     "cell_type": "markdown",
     "metadata": {},
     "source": [
      "These are the results of our calibration. We assign them to our parameters. "
     ]
    },
    {
     "cell_type": "code",
     "collapsed": false,
     "input": [
      "# if you didn't change anything above and want to save some time, you can skip this cell and run the next one\n",
      "\n",
      "f = lambda x: criterion(x)\n",
      "p = GLP(f, lb = [0.0, 0.0, 0.0],  ub = [1.0, 10.0, 10.0],  maxIter = 1e3,  maxFunEvals = 1e5) #,  maxTime = 20,  maxCPUTime = 20)\n",
      "r = p.solve('de', plot=0)\n",
      "x_opt,  f_opt = r.xf,  r.ff\n",
      "print x_opt, f_opt"
     ],
     "language": "python",
     "metadata": {},
     "outputs": [
      {
       "output_type": "stream",
       "stream": "stdout",
       "text": [
        "-----------------------------------------------------\n",
        "solver: de   problem: unnamed\n",
        " iter   "
       ]
      },
      {
       "output_type": "stream",
       "stream": "stdout",
       "text": [
        " objFunVal   \n",
        "    0  6.976e+08 \n",
        "   10  4.107e+07 "
       ]
      },
      {
       "output_type": "stream",
       "stream": "stdout",
       "text": [
        "\n",
        "   20  4.101e+07 "
       ]
      },
      {
       "output_type": "stream",
       "stream": "stdout",
       "text": [
        "\n",
        "   30  4.095e+07 "
       ]
      },
      {
       "output_type": "stream",
       "stream": "stdout",
       "text": [
        "\n",
        "   40  4.094e+07 "
       ]
      },
      {
       "output_type": "stream",
       "stream": "stdout",
       "text": [
        "\n",
        "   50  4.094e+07 "
       ]
      },
      {
       "output_type": "stream",
       "stream": "stdout",
       "text": [
        "\n",
        "   60  4.094e+07 "
       ]
      },
      {
       "output_type": "stream",
       "stream": "stdout",
       "text": [
        "\n",
        "   70  4.094e+07 "
       ]
      },
      {
       "output_type": "stream",
       "stream": "stdout",
       "text": [
        "\n",
        "   72  4.094e+07 "
       ]
      },
      {
       "output_type": "stream",
       "stream": "stdout",
       "text": [
        "\n",
        "istop: 11(Non-Success Number > maxNonSuccess = 15)\n",
        "Solver:   Time Elapsed = 155.0 \tCPU Time Elapsed = 155.885248\n",
        "objFunValue: 40936743 (feasible, MaxResidual = 0)\n",
        "[ 0.07941598  9.96274091  3.2098035 ] 40936743.1121\n"
       ]
      }
     ],
     "prompt_number": 9
    },
    {
     "cell_type": "code",
     "collapsed": false,
     "input": [
      "# [ 0.07941598  9.96274091  3.2098035 ] 40936743.1121\n",
      "x_opt = [ 0.07941598,  9.96274091,  3.2098035 ]\n",
      "zeta, z_bar, alpha = x_opt[0], x_opt[1], x_opt[2]\n",
      "x_predicted = vector_expenditures(zeta,z_bar,alpha,lambda x, deduct = base_deductible: t(x,deduct))\n"
     ],
     "language": "python",
     "metadata": {},
     "outputs": [],
     "prompt_number": 13
    },
    {
     "cell_type": "markdown",
     "metadata": {},
     "source": [
      "# How good is the fit?\n",
      "\n",
      "Now that we have calibrated the parameters, we can compare the observations $x_i$ with our predicted consumption. Figure 2 shows $x_i$ in red (as in figure 1) and our prediction in blue."
     ]
    },
    {
     "cell_type": "code",
     "collapsed": false,
     "input": [
      "plt.clf()\n",
      "plt.plot(range(1,number_categories+1),x[:number_categories],'ro')\n",
      "\n",
      "plt.plot(range(1,number_categories+1),x_predicted,'bo')\n",
      "\n",
      "plt.ylabel('expenditure')\n",
      "plt.xlabel('categories')\n",
      "plt.axis([0.5,number_categories+0.5,-90,26000])\n",
      "plt.title('Figure 2: Average expenditure per category')\n",
      "plt.savefig('predicted_expenditure.png')"
     ],
     "language": "python",
     "metadata": {},
     "outputs": [
      {
       "metadata": {},
       "output_type": "display_data",
       "png": "[encoded data removed]",
       "text": [
        "<matplotlib.figure.Figure at 0x110ddfed0>"
       ]
      }
     ],
     "prompt_number": 14
    },
    {
     "cell_type": "markdown",
     "metadata": {},
     "source": [
      "Clearly, the fit is not perfect. But it does not seem unreasonable either. The biggest differences can be observed for categories 15-20. Category 15 spends already more than 1500 euro. Hence an increase in deductible from 375 to 750 is unlikely to change the behaviour in these categories. In this sense, the mismatch does not seem so crucial for these categories. On the other hand, there clearly is scope for improvement."
     ]
    },
    {
     "cell_type": "markdown",
     "metadata": {},
     "source": [
      "# Conclusion\n",
      "\n",
      "Given the calibrated parameters that we have, we can now answer our [question](#question). We calculate the total predicted expenditures with a deductible of 375, denoted `x_375`, and with 750, `x_750`. Then we calculate the percentage change, $(x_{750}-x_{375})/x_{375}$. We find that health care expenditure falls by 3.0%."
     ]
    },
    {
     "cell_type": "code",
     "collapsed": false,
     "input": [
      "x_375 = vector_expenditures(zeta,z_bar,alpha,lambda x, deduct = 375: t(x,deduct))\n",
      "x_750 = vector_expenditures(zeta,z_bar,alpha,lambda x, deduct = 750: t(x,deduct))\n",
      "print (sum(x_750)-sum(x_375))/sum(x_375)"
     ],
     "language": "python",
     "metadata": {},
     "outputs": [
      {
       "output_type": "stream",
       "stream": "stdout",
       "text": [
        "-0.0299579724574\n"
       ]
      }
     ],
     "prompt_number": 15
    },
    {
     "cell_type": "markdown",
     "metadata": {},
     "source": [
      "# Robustness\n",
      "\n",
      "An important parameter in this analysis is the elasticity of health care demand, which translates into $\\gamma$. We have worked \n",
      "with $\\gamma = 0.8$. To get an idea how sensitive the result is with respect to this parameter, we will also calculate the predicted reduction in health care expenditure for $\\gamma = 0.7$ and $\\gamma = 0.9$.\n",
      "\n",
      "Note that for each new value of $\\gamma$ we also need to re-calibrate the other parameters. To do this, we define a function `result` with parameter $\\gamma$. For each $\\gamma$ it calibrates the parameters $\\zeta, \\bar z, \\alpha$ and returns $(x_{750}-x_{375})/x_{375}$.\n"
     ]
    },
    {
     "cell_type": "code",
     "collapsed": false,
     "input": [
      "def result(gamma):\n",
      "    def health_consumption(i,zeta,z_bar,alpha,t,gamma=gamma): \n",
      "        cons = optimize.brute(lambda z: -(alpha*(z+y(zeta)[i])**gamma-t(z+y(zeta)[i])), ((0,z_bar*y(zeta)[i]**2),), finish = None) \n",
      "        return cons+y(zeta)[i]\n",
      "\n",
      "    def vector_expenditures(zeta,z_bar,alpha,t,gamma=gamma): \n",
      "        z = [health_consumption(i,zeta,z_bar,alpha,t) for i in categories]\n",
      "        return z\n",
      "    \n",
      "    def criterion(par):         # Vector par = zeta, z_bar, alpha\n",
      "       predicted_cons = vector_expenditures(par[0],par[1],par[2],lambda x, deduct = base_deductible: t(x,deduct))\n",
      "       difference = map(sub, predicted_cons[:number_categories],x[:number_categories]) ### \n",
      "       return sum(array(difference)**2)\n",
      "    \n",
      "    f = lambda x: criterion(x)\n",
      "    p = GLP(f, lb = [0.0, 0.0, 0.0],  ub = [1.0, 10.0, 10.0],  maxIter = 1e3,  maxFunEvals = 1e5) #,  maxTime = 20,  maxCPUTime = 20)\n",
      "    r = p.solve('de', plot=0)\n",
      "    x_opt = r.xf\n",
      "    \n",
      "    x_375 = vector_expenditures(zeta,z_bar,alpha,lambda x, deduct = 375: t(x,deduct))\n",
      "    x_750 = vector_expenditures(zeta,z_bar,alpha,lambda x, deduct = 750: t(x,deduct))\n",
      "    return (sum(x_750)-sum(x_375))/sum(x_375)\n",
      "\n",
      "\n",
      "\n",
      "\n"
     ],
     "language": "python",
     "metadata": {},
     "outputs": [],
     "prompt_number": 19
    },
    {
     "cell_type": "code",
     "collapsed": false,
     "input": [
      "print \"percentage change with gamma = 0.7 equals: \", result(0.7)\n",
      "print \"percentage change with gamma = 0.9 equals: \", result(0.9)"
     ],
     "language": "python",
     "metadata": {},
     "outputs": [
      {
       "output_type": "stream",
       "stream": "stdout",
       "text": [
        "percentage change with gamma = 0.7 equals:  "
       ]
      },
      {
       "output_type": "stream",
       "stream": "stdout",
       "text": [
        "-----------------------------------------------------\n",
        "solver: de   problem: unnamed\n",
        " iter   "
       ]
      },
      {
       "output_type": "stream",
       "stream": "stdout",
       "text": [
        " objFunVal   \n",
        "    0  7.096e+08 \n",
        "   10  4.119e+07 "
       ]
      },
      {
       "output_type": "stream",
       "stream": "stdout",
       "text": [
        "\n",
        "   20  4.096e+07 "
       ]
      },
      {
       "output_type": "stream",
       "stream": "stdout",
       "text": [
        "\n",
        "   30  4.095e+07 "
       ]
      },
      {
       "output_type": "stream",
       "stream": "stdout",
       "text": [
        "\n",
        "   40  4.094e+07 "
       ]
      },
      {
       "output_type": "stream",
       "stream": "stdout",
       "text": [
        "\n",
        "   50  4.094e+07 "
       ]
      },
      {
       "output_type": "stream",
       "stream": "stdout",
       "text": [
        "\n",
        "   60  4.093e+07 "
       ]
      },
      {
       "output_type": "stream",
       "stream": "stdout",
       "text": [
        "\n",
        "   70  4.093e+07 "
       ]
      },
      {
       "output_type": "stream",
       "stream": "stdout",
       "text": [
        "\n",
        "   76  4.093e+07 "
       ]
      },
      {
       "output_type": "stream",
       "stream": "stdout",
       "text": [
        "\n",
        "istop: 11(Non-Success Number > maxNonSuccess = 15)\n",
        "Solver:   Time Elapsed = 162.85 \tCPU Time Elapsed = 163.772382\n",
        "objFunValue: 40934205 (feasible, MaxResidual = 0)\n",
        "-0.0851295743819"
       ]
      },
      {
       "output_type": "stream",
       "stream": "stdout",
       "text": [
        "\n",
        "percentage change with gamma = 0.9 equals:  "
       ]
      },
      {
       "output_type": "stream",
       "stream": "stdout",
       "text": [
        "-----------------------------------------------------\n",
        "solver: de   problem: unnamed\n",
        " iter   "
       ]
      },
      {
       "output_type": "stream",
       "stream": "stdout",
       "text": [
        " objFunVal   \n",
        "    0  6.976e+08 \n",
        "   10  4.194e+07 "
       ]
      },
      {
       "output_type": "stream",
       "stream": "stdout",
       "text": [
        "\n",
        "   20  4.100e+07 "
       ]
      },
      {
       "output_type": "stream",
       "stream": "stdout",
       "text": [
        "\n",
        "   30  4.096e+07 "
       ]
      },
      {
       "output_type": "stream",
       "stream": "stdout",
       "text": [
        "\n",
        "   40  4.094e+07 "
       ]
      },
      {
       "output_type": "stream",
       "stream": "stdout",
       "text": [
        "\n",
        "   50  4.094e+07 "
       ]
      },
      {
       "output_type": "stream",
       "stream": "stdout",
       "text": [
        "\n",
        "   60  4.093e+07 "
       ]
      },
      {
       "output_type": "stream",
       "stream": "stdout",
       "text": [
        "\n",
        "   70  4.093e+07 "
       ]
      },
      {
       "output_type": "stream",
       "stream": "stdout",
       "text": [
        "\n",
        "   80  4.093e+07 "
       ]
      },
      {
       "output_type": "stream",
       "stream": "stdout",
       "text": [
        "\n",
        "   90  4.093e+07 "
       ]
      },
      {
       "output_type": "stream",
       "stream": "stdout",
       "text": [
        "\n",
        "  100  4.093e+07 "
       ]
      },
      {
       "output_type": "stream",
       "stream": "stdout",
       "text": [
        "\n",
        "  110  4.093e+07 "
       ]
      },
      {
       "output_type": "stream",
       "stream": "stdout",
       "text": [
        "\n",
        "  120  4.093e+07 "
       ]
      },
      {
       "output_type": "stream",
       "stream": "stdout",
       "text": [
        "\n",
        "  130  4.093e+07 "
       ]
      },
      {
       "output_type": "stream",
       "stream": "stdout",
       "text": [
        "\n",
        "  140  4.093e+07 "
       ]
      },
      {
       "output_type": "stream",
       "stream": "stdout",
       "text": [
        "\n",
        "  150  4.093e+07 "
       ]
      },
      {
       "output_type": "stream",
       "stream": "stdout",
       "text": [
        "\n",
        "  160  4.093e+07 "
       ]
      },
      {
       "output_type": "stream",
       "stream": "stdout",
       "text": [
        "\n",
        "  170  4.093e+07 "
       ]
      },
      {
       "output_type": "stream",
       "stream": "stdout",
       "text": [
        "\n",
        "  180  4.093e+07 "
       ]
      },
      {
       "output_type": "stream",
       "stream": "stdout",
       "text": [
        "\n",
        "  190  4.093e+07 "
       ]
      },
      {
       "output_type": "stream",
       "stream": "stdout",
       "text": [
        "\n",
        "  196  4.093e+07 "
       ]
      },
      {
       "output_type": "stream",
       "stream": "stdout",
       "text": [
        "\n",
        "istop: 11(Non-Success Number > maxNonSuccess = 15)\n",
        "Solver:   Time Elapsed = 428.14 \tCPU Time Elapsed = 430.440132\n",
        "objFunValue: 40933583 (feasible, MaxResidual = 3.99988e-07)\n",
        "0.0"
       ]
      },
      {
       "output_type": "stream",
       "stream": "stdout",
       "text": [
        "\n"
       ]
      }
     ],
     "prompt_number": 20
    },
    {
     "cell_type": "markdown",
     "metadata": {},
     "source": [
      "With $\\gamma = 0.7$, the elasticity equals $E = -0.3$. That is, agents are a lot more elastic with respect to the price of health care. In this case, increasing the deductible from 375 to 750, leads to an 8% reduction in health care costs.\n",
      "\n",
      "On the other hand, with $\\gamma = 0.9$, we have rather inelastic demand with $E = -0.1$. Indeed, in this case, changing the deductible does not change total expenditure at all: $x_{750}-x_{375} =0$.\n",
      "\n",
      "Hence, the results are very sensitive to the value of $\\gamma$. More research is needed to find the correct value for $\\gamma$ for the Netherlands in 2015."
     ]
    },
    {
     "cell_type": "code",
     "collapsed": false,
     "input": [],
     "language": "python",
     "metadata": {},
     "outputs": []
    }
   ],
   "metadata": {}
  }
 ]
}