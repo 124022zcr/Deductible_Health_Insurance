{
 "cells": [
  {
   "cell_type": "code",
   "execution_count": 1,
   "metadata": {
    "collapsed": true
   },
   "outputs": [],
   "source": [
    "import pandas as pd\n",
    "import plotly.plotly as py\n",
    "from plotly.graph_objs import *\n",
    "import plotly.tools as tls\n",
    "import numpy as np\n",
    "from scipy import optimize, arange\n",
    "from scipy.integrate import quad,dblquad"
   ]
  },
  {
   "cell_type": "markdown",
   "metadata": {},
   "source": [
    "# Model\n",
    "\n",
    "As explained in the note, we consider both a one and a two period model.\n",
    "\n",
    "To keep things simple, assume that the bivariate distribution $f(y,u) = \\frac{1}{\\bar y \\alpha \\bar y}$. That is, $y$ is uniformly distributed on interval $[0,\\bar y]$ and $u$ is uniformly distributed on $[0,\\bar u]$ with $\\bar u = \\alpha \\bar y$. Further, $u$ and $y$ are independent.\n",
    "\n",
    "The probability that someone needs treatment is given by $\\mu \\in [0,1]$.\n"
   ]
  },
  {
   "cell_type": "code",
   "execution_count": 2,
   "metadata": {
    "collapsed": true
   },
   "outputs": [],
   "source": [
    "mu = 0.4\n",
    "bar_y = 2000.0\n",
    "alpha = 1.5\n",
    "bar_u = alpha*bar_y\n",
    "y_array = arange(0,bar_y,1)\n",
    "u_array = arange(0,alpha*bar_y,1)\n",
    "\n",
    "def f(y,u):\n",
    "    return 1.0/(bar_y**2*alpha)"
   ]
  },
  {
   "cell_type": "markdown",
   "metadata": {},
   "source": [
    "An agent with health care expenditure $y$ and deductible $D$ pay herself the amount given by the function `cost`."
   ]
  },
  {
   "cell_type": "code",
   "execution_count": 3,
   "metadata": {
    "collapsed": true
   },
   "outputs": [],
   "source": [
    "def cost(y,D):\n",
    "    if y < D:\n",
    "        cost = y\n",
    "    else: cost = D\n",
    "    return cost\n"
   ]
  },
  {
   "cell_type": "markdown",
   "metadata": {},
   "source": [
    "For the figures here, we work with two deductible levels:"
   ]
  },
  {
   "cell_type": "code",
   "execution_count": 4,
   "metadata": {
    "collapsed": true
   },
   "outputs": [],
   "source": [
    "deductible_1 = 200\n",
    "deductible_2 = 400"
   ]
  },
  {
   "cell_type": "markdown",
   "metadata": {},
   "source": [
    "## one period model\n",
    "\n",
    "In the one period model, the agent gets one draw $y,u$ and decides whether or not to accept this treatment and pay `cost(y,D)` for it. The function `critical_u_one_period` defines a benchmark value such that treatments with $u$ exceeding `critical_u_one_period(y,D)` are accepted by the agent. In the one period model, this benchmark value is given by the agent's expenditure `cost(y,D)`.\n",
    "\n"
   ]
  },
  {
   "cell_type": "code",
   "execution_count": 5,
   "metadata": {
    "collapsed": true
   },
   "outputs": [],
   "source": [
    "def critical_u_one_period(y,D):\n",
    "    critical_u = cost(y,D)\n",
    "    return critical_u\n",
    "\n",
    "def density(y,D):\n",
    "    return mu*(1-cost(y,D))/bar_u\n",
    "\n",
    "density_1 = [round(density(y,deductible_1),2) for y in y_array]\n",
    "density_2 = [round(density(y,deductible_2),2) for y in y_array]"
   ]
  },
  {
   "cell_type": "markdown",
   "metadata": {},
   "source": [
    "The number of people consuming no health care $G(0)$ is defined by the function `G_0(D)`. It is given by the people who do not fall ill ($1-\\mu$) in the first place. Second, agents who do fall ill and get treatments $y,u$ offered with $u<$`cost(y,D)` do not consume health care either.\n",
    "\n",
    "The density $g(z) = \\mu \\int_{cost(z,D)}^{+\\infty} f(z,u)du$ equals for uniform $f(y,u)$ the expression $g(z) = \\mu \\frac{\\bar u - cost(z,D)}{\\bar u \\bar y}$.\n",
    "\n",
    "`g_normalized` gives $g(z)/(1-G(0))$. The Python function `quad` integrates the function $g(y,D)$ over $y$ from 0 to $\\bar y$."
   ]
  },
  {
   "cell_type": "code",
   "execution_count": 6,
   "metadata": {
    "collapsed": true
   },
   "outputs": [],
   "source": [
    "\n",
    "def G_0(D):\n",
    "    return 1-mu+mu*(0.5*D**2+D*(bar_y-D))/(bar_y*bar_u)\n",
    "\n",
    "def g(y,D):\n",
    "    return mu*(bar_u-cost(y,D)/(bar_u*bar_y))\n",
    "\n",
    "def g_normalized(y,D):\n",
    "    return g(y,D)/quad(lambda x: g(x,D), 0, bar_y)[0]"
   ]
  },
  {
   "cell_type": "code",
   "execution_count": 9,
   "metadata": {
    "collapsed": false
   },
   "outputs": [],
   "source": [
    "traceg1= Scatter(\n",
    "      x = y_array,\n",
    "      y = [g_normalized(y,deductible_1) for y in y_array],\n",
    "      mode='markers+lines', \n",
    "      name = 'one period, deductible = 200',\n",
    "      #text = y\n",
    "      )\n",
    "traceg2= Scatter(\n",
    "      x = y_array,\n",
    "      y = [g_normalized(y,deductible_2) for y in y_array],\n",
    "      mode='markers+lines', \n",
    "      name = 'one period, deductible = 400',\n",
    "      #text = y\n",
    "      )"
   ]
  },
  {
   "cell_type": "code",
   "execution_count": 15,
   "metadata": {
    "collapsed": false
   },
   "outputs": [
    {
     "data": {
      "text/html": [
       "<iframe id=\"igraph\" scrolling=\"no\" style=\"border:none;\"seamless=\"seamless\" src=\"https://plot.ly/~janboone/158.embed\" height=\"525\" width=\"100%\"></iframe>"
      ],
      "text/plain": [
       "<plotly.tools.PlotlyDisplay object>"
      ]
     },
     "execution_count": 15,
     "metadata": {},
     "output_type": "execute_result"
    }
   ],
   "source": [
    "layout = Layout(\n",
    "    title='Normalized density health care use',\n",
    "    xaxis=XAxis(\n",
    "        title='$y$',\n",
    "        titlefont=Font(\n",
    "            family='Courier New, monospace',\n",
    "            size=18,\n",
    "            color='#7f7f7f'\n",
    "        ),\n",
    "        # range=[0,2.0*deductible_2]\n",
    "    ),\n",
    "    yaxis=YAxis(\n",
    "        title='$g/(1-G(0))$',\n",
    "        titlefont=Font(\n",
    "            family='Courier New, monospace',\n",
    "            size=18,\n",
    "            color='#7f7f7f'\n",
    "        ),\n",
    "        showticklabels=False\n",
    "        # range=[0,1.2]\n",
    "    )\n",
    ")\n",
    "\n",
    "data = Data([traceg1, traceg2])\n",
    "fig = Figure(data=data, layout=layout)\n",
    "py.plot(fig, filename='density expenditure')\n",
    "tls.embed(\"https://plot.ly/~janboone/158\")"
   ]
  },
  {
   "cell_type": "markdown",
   "metadata": {},
   "source": [
    "Hence we see that with the higher deductible (400 vs 200) that the normalized density is higher for low $y$ and lower for high $y$. For high $y$ this corresponds to a fall in $g(y)$ itself. For low $y$, $g(y)$ does not change with $D$ but higher $D$ leads to higher $G(0)$. Hence the normalized density at low $y$ is higher for $D=400$ than for $D=200$."
   ]
  },
  {
   "cell_type": "markdown",
   "metadata": {},
   "source": [
    "The following cell generates the critical $u$ level in $y,u$ space: for $u$ values above (below) this line the treatment is (not) accepted by the agent."
   ]
  },
  {
   "cell_type": "code",
   "execution_count": 16,
   "metadata": {
    "collapsed": true
   },
   "outputs": [],
   "source": [
    "trace1= Scatter(\n",
    "      x = y_array,\n",
    "      y = [critical_u_one_period(y,deductible_1) for y in y_array],\n",
    "      mode='markers+lines', \n",
    "      name = 'one period, deductible = 200',\n",
    "      text = density_1\n",
    "      )\n",
    "trace2= Scatter(\n",
    "      x = y_array,\n",
    "      y = [critical_u_one_period(y,deductible_2) for y in y_array],\n",
    "      mode='markers+lines', \n",
    "      name = 'one period, deductible = 400',\n",
    "      text = density_2\n",
    "      )"
   ]
  },
  {
   "cell_type": "markdown",
   "metadata": {},
   "source": [
    "## two period model\n",
    "\n",
    "In the two period model, we focus on consumption in the first period. The main effect that we are after is that the density $g(y)$ for low $y$ is affected. In particular, a treatment offer $y_1,u_1$ is accepted in the first period if $u_1 \\geq c(y_1,D) - \\mu(v(D - y_1)-v(D))$. As the figure below shows: a change in $D$ affects this critical value for $u$ even at low values of $y$.\n",
    "\n",
    "We still need to characterize the second period effect, but as there is an effect alreay in the first period, one expects that there will be an effect as well when both periods are taken into account."
   ]
  },
  {
   "cell_type": "code",
   "execution_count": 17,
   "metadata": {
    "collapsed": true
   },
   "outputs": [],
   "source": [
    "\n",
    "def integrand(y,u,D):\n",
    "    return (u-cost(y,D))/(bar_y*bar_u)\n",
    "\n",
    "def v(D):\n",
    "    v = dblquad(lambda x, y: integrand(x,y,D), 0, bar_y, lambda x: cost(x,D), lambda x: bar_u)\n",
    "    return v[0]\n",
    "\n",
    "def critical_u_two_periods(y,D):\n",
    "    if y < D:\n",
    "        critical_u = cost(y,D)-mu*(v(D-y)-v(D))\n",
    "    else: critical_u = cost(y,D)-mu*(v(0)-v(D))\n",
    "    return critical_u"
   ]
  },
  {
   "cell_type": "code",
   "execution_count": 18,
   "metadata": {
    "collapsed": true
   },
   "outputs": [],
   "source": [
    "trace3= Scatter(\n",
    "      x = y_array,\n",
    "      y = [critical_u_two_periods(y,deductible_1) for y in y_array],\n",
    "      mode='markers+lines', \n",
    "      name = 'two periods, deductible = 200',\n",
    "      text = 'first period'\n",
    "      )\n",
    "trace4= Scatter(\n",
    "      x = y_array,\n",
    "      y = [critical_u_two_periods(y,deductible_2) for y in y_array],\n",
    "      mode='markers+lines', \n",
    "      name = 'two periods, deductible = 400',\n",
    "      text = 'first period'\n",
    "      )"
   ]
  },
  {
   "cell_type": "code",
   "execution_count": 19,
   "metadata": {
    "collapsed": false
   },
   "outputs": [
    {
     "data": {
      "text/html": [
       "<iframe id=\"igraph\" scrolling=\"no\" style=\"border:none;\"seamless=\"seamless\" src=\"https://plot.ly/~janboone/143.embed\" height=\"525\" width=\"100%\"></iframe>"
      ],
      "text/plain": [
       "<plotly.tools.PlotlyDisplay object>"
      ]
     },
     "execution_count": 19,
     "metadata": {},
     "output_type": "execute_result"
    }
   ],
   "source": [
    "layout = Layout(\n",
    "    title='First period health care use',\n",
    "    xaxis=XAxis(\n",
    "        title='$y$',\n",
    "        titlefont=Font(\n",
    "            family='Courier New, monospace',\n",
    "            size=18,\n",
    "            color='#7f7f7f'\n",
    "        ),\n",
    "        range=[0,2.0*deductible_2]\n",
    "    ),\n",
    "    yaxis=YAxis(\n",
    "        title='$u$',\n",
    "        titlefont=Font(\n",
    "            family='Courier New, monospace',\n",
    "            size=18,\n",
    "            color='#7f7f7f'\n",
    "        ),\n",
    "        #range=[0,deductible_2+100]\n",
    "    )\n",
    ")\n",
    "\n",
    "data = Data([trace1, trace2,trace3, trace4])\n",
    "fig = Figure(data=data, layout=layout)\n",
    "py.plot(fig, filename='deductibles')\n",
    "tls.embed(\"https://plot.ly/~janboone/143\")"
   ]
  },
  {
   "cell_type": "markdown",
   "metadata": {
    "collapsed": true
   },
   "source": [
    "## things to note in this graph\n",
    "\n",
    "First by clicking in the lines in the \"legenda\" you can make them appear and disappear. In this way, you can easily compare one-period-D200 with one-period-D400, but also one-period-D200 with two-periods-D200 etc.\n",
    "\n",
    "Clearly, the critical $u$ (above which a treatment is accepted) is lower in the two period model. In the latter, consuming in the first period has as an additional benefit a lower (remaining) deductible in the second period. This makes the agent more eager to accept treatment (compared to the one period model).\n",
    "\n",
    "In both models, a higher deductible raises the critical $u$: health care consumption falls with the deductible. In the one period model, this only happens for $y > 200$. As noted above, there is no effect of $D$ for $y$ below the lowest deductible ($D=200$ in this case).\n",
    "\n",
    "This is different in the two period model. Even for $y < 200$ the two lines diverge (you may want to click away the one period lines to see this better)."
   ]
  },
  {
   "cell_type": "code",
   "execution_count": null,
   "metadata": {
    "collapsed": true
   },
   "outputs": [],
   "source": []
  }
 ],
 "metadata": {
  "kernelspec": {
   "display_name": "Python 2",
   "language": "python",
   "name": "python2"
  },
  "language_info": {
   "codemirror_mode": {
    "name": "ipython",
    "version": 2
   },
   "file_extension": ".py",
   "mimetype": "text/x-python",
   "name": "python",
   "nbconvert_exporter": "python",
   "pygments_lexer": "ipython2",
   "version": "2.7.6"
  }
 },
 "nbformat": 4,
 "nbformat_minor": 0
}
